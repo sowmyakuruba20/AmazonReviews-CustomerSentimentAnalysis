{
 "cells": [
  {
   "cell_type": "markdown",
   "id": "f908a0e9-7b29-4dab-9846-6e867072a326",
   "metadata": {},
   "source": [
    "## AMAZON REVIEWS - CUSTOMER SENTIMENT ANALYSIS "
   ]
  },
  {
   "cell_type": "code",
   "execution_count": 1,
   "id": "9742fe93-0c10-4799-b7d7-8a657c5f2cf4",
   "metadata": {},
   "outputs": [],
   "source": [
    "import pandas as pd\n",
    "import numpy as np\n",
    "import matplotlib.pyplot as plt\n",
    "import seaborn as sns"
   ]
  },
  {
   "cell_type": "markdown",
   "id": "98b9e237-e63b-43c5-8ff9-033d8866af78",
   "metadata": {},
   "source": [
    "## DATA COLLECTION"
   ]
  },
  {
   "cell_type": "code",
   "execution_count": 2,
   "id": "9796c202-e1b8-4142-9385-bc0792ed1689",
   "metadata": {},
   "outputs": [],
   "source": [
    "reviews_df = pd.read_csv(\"amazon_reviews.csv\")"
   ]
  },
  {
   "cell_type": "code",
   "execution_count": 3,
   "id": "a3670424-d499-4e95-b898-e311a390799d",
   "metadata": {},
   "outputs": [
    {
     "data": {
      "text/html": [
       "<div>\n",
       "<style scoped>\n",
       "    .dataframe tbody tr th:only-of-type {\n",
       "        vertical-align: middle;\n",
       "    }\n",
       "\n",
       "    .dataframe tbody tr th {\n",
       "        vertical-align: top;\n",
       "    }\n",
       "\n",
       "    .dataframe thead th {\n",
       "        text-align: right;\n",
       "    }\n",
       "</style>\n",
       "<table border=\"1\" class=\"dataframe\">\n",
       "  <thead>\n",
       "    <tr style=\"text-align: right;\">\n",
       "      <th></th>\n",
       "      <th>rating</th>\n",
       "      <th>date</th>\n",
       "      <th>variation</th>\n",
       "      <th>verified_reviews</th>\n",
       "      <th>feedback</th>\n",
       "    </tr>\n",
       "  </thead>\n",
       "  <tbody>\n",
       "    <tr>\n",
       "      <th>0</th>\n",
       "      <td>5</td>\n",
       "      <td>31-Jul-18</td>\n",
       "      <td>Charcoal Fabric</td>\n",
       "      <td>Love my Echo!</td>\n",
       "      <td>1</td>\n",
       "    </tr>\n",
       "    <tr>\n",
       "      <th>1</th>\n",
       "      <td>5</td>\n",
       "      <td>31-Jul-18</td>\n",
       "      <td>Charcoal Fabric</td>\n",
       "      <td>Loved it!</td>\n",
       "      <td>1</td>\n",
       "    </tr>\n",
       "    <tr>\n",
       "      <th>2</th>\n",
       "      <td>4</td>\n",
       "      <td>31-Jul-18</td>\n",
       "      <td>Walnut Finish</td>\n",
       "      <td>Sometimes while playing a game, you can answer...</td>\n",
       "      <td>1</td>\n",
       "    </tr>\n",
       "    <tr>\n",
       "      <th>3</th>\n",
       "      <td>5</td>\n",
       "      <td>31-Jul-18</td>\n",
       "      <td>Charcoal Fabric</td>\n",
       "      <td>I have had a lot of fun with this thing. My 4 ...</td>\n",
       "      <td>1</td>\n",
       "    </tr>\n",
       "    <tr>\n",
       "      <th>4</th>\n",
       "      <td>5</td>\n",
       "      <td>31-Jul-18</td>\n",
       "      <td>Charcoal Fabric</td>\n",
       "      <td>Music</td>\n",
       "      <td>1</td>\n",
       "    </tr>\n",
       "  </tbody>\n",
       "</table>\n",
       "</div>"
      ],
      "text/plain": [
       "   rating       date         variation  \\\n",
       "0       5  31-Jul-18  Charcoal Fabric    \n",
       "1       5  31-Jul-18  Charcoal Fabric    \n",
       "2       4  31-Jul-18    Walnut Finish    \n",
       "3       5  31-Jul-18  Charcoal Fabric    \n",
       "4       5  31-Jul-18  Charcoal Fabric    \n",
       "\n",
       "                                    verified_reviews  feedback  \n",
       "0                                      Love my Echo!         1  \n",
       "1                                          Loved it!         1  \n",
       "2  Sometimes while playing a game, you can answer...         1  \n",
       "3  I have had a lot of fun with this thing. My 4 ...         1  \n",
       "4                                              Music         1  "
      ]
     },
     "execution_count": 3,
     "metadata": {},
     "output_type": "execute_result"
    }
   ],
   "source": [
    "reviews_df.head()"
   ]
  },
  {
   "cell_type": "markdown",
   "id": "89871b65-c518-49e2-99b0-e1ed84a8297a",
   "metadata": {},
   "source": [
    "## EXPLORATORY DATA ANALYSIS"
   ]
  },
  {
   "cell_type": "code",
   "execution_count": 4,
   "id": "d0e5ff20-24a2-4ce1-8aa0-06d947f39e54",
   "metadata": {},
   "outputs": [
    {
     "name": "stdout",
     "output_type": "stream",
     "text": [
      "<class 'pandas.core.frame.DataFrame'>\n",
      "RangeIndex: 3150 entries, 0 to 3149\n",
      "Data columns (total 5 columns):\n",
      " #   Column            Non-Null Count  Dtype \n",
      "---  ------            --------------  ----- \n",
      " 0   rating            3150 non-null   int64 \n",
      " 1   date              3150 non-null   object\n",
      " 2   variation         3150 non-null   object\n",
      " 3   verified_reviews  3149 non-null   object\n",
      " 4   feedback          3150 non-null   int64 \n",
      "dtypes: int64(2), object(3)\n",
      "memory usage: 123.2+ KB\n"
     ]
    }
   ],
   "source": [
    "reviews_df.info()"
   ]
  },
  {
   "cell_type": "markdown",
   "id": "77814c74-357a-4595-b08f-9606adeab83d",
   "metadata": {},
   "source": [
    "### There is one missing/null verified_reviews in the data collected, since we do sentiment analyis based on the verified_reviews, we will remove this row."
   ]
  },
  {
   "cell_type": "code",
   "execution_count": 5,
   "id": "9aa4deb2-b6ea-4c3e-b28d-7550e136435b",
   "metadata": {},
   "outputs": [],
   "source": [
    "reviews_df.dropna(inplace=True)"
   ]
  },
  {
   "cell_type": "code",
   "execution_count": 6,
   "id": "2cd2aea0-1a01-440f-971d-74229c551346",
   "metadata": {},
   "outputs": [
    {
     "name": "stdout",
     "output_type": "stream",
     "text": [
      "<class 'pandas.core.frame.DataFrame'>\n",
      "Index: 3149 entries, 0 to 3149\n",
      "Data columns (total 5 columns):\n",
      " #   Column            Non-Null Count  Dtype \n",
      "---  ------            --------------  ----- \n",
      " 0   rating            3149 non-null   int64 \n",
      " 1   date              3149 non-null   object\n",
      " 2   variation         3149 non-null   object\n",
      " 3   verified_reviews  3149 non-null   object\n",
      " 4   feedback          3149 non-null   int64 \n",
      "dtypes: int64(2), object(3)\n",
      "memory usage: 147.6+ KB\n"
     ]
    }
   ],
   "source": [
    "reviews_df.info()"
   ]
  },
  {
   "cell_type": "markdown",
   "id": "47bff7f2-4b39-482b-9551-5ea05ec558b8",
   "metadata": {},
   "source": [
    "### Null values removed "
   ]
  },
  {
   "cell_type": "code",
   "execution_count": 7,
   "id": "2d0694d0-1a92-429b-975e-1bbbf9816eca",
   "metadata": {},
   "outputs": [
    {
     "data": {
      "text/html": [
       "<div>\n",
       "<style scoped>\n",
       "    .dataframe tbody tr th:only-of-type {\n",
       "        vertical-align: middle;\n",
       "    }\n",
       "\n",
       "    .dataframe tbody tr th {\n",
       "        vertical-align: top;\n",
       "    }\n",
       "\n",
       "    .dataframe thead th {\n",
       "        text-align: right;\n",
       "    }\n",
       "</style>\n",
       "<table border=\"1\" class=\"dataframe\">\n",
       "  <thead>\n",
       "    <tr style=\"text-align: right;\">\n",
       "      <th></th>\n",
       "      <th>rating</th>\n",
       "      <th>feedback</th>\n",
       "    </tr>\n",
       "  </thead>\n",
       "  <tbody>\n",
       "    <tr>\n",
       "      <th>count</th>\n",
       "      <td>3149.000000</td>\n",
       "      <td>3149.000000</td>\n",
       "    </tr>\n",
       "    <tr>\n",
       "      <th>mean</th>\n",
       "      <td>4.463957</td>\n",
       "      <td>0.918704</td>\n",
       "    </tr>\n",
       "    <tr>\n",
       "      <th>std</th>\n",
       "      <td>1.067773</td>\n",
       "      <td>0.273332</td>\n",
       "    </tr>\n",
       "    <tr>\n",
       "      <th>min</th>\n",
       "      <td>1.000000</td>\n",
       "      <td>0.000000</td>\n",
       "    </tr>\n",
       "    <tr>\n",
       "      <th>25%</th>\n",
       "      <td>4.000000</td>\n",
       "      <td>1.000000</td>\n",
       "    </tr>\n",
       "    <tr>\n",
       "      <th>50%</th>\n",
       "      <td>5.000000</td>\n",
       "      <td>1.000000</td>\n",
       "    </tr>\n",
       "    <tr>\n",
       "      <th>75%</th>\n",
       "      <td>5.000000</td>\n",
       "      <td>1.000000</td>\n",
       "    </tr>\n",
       "    <tr>\n",
       "      <th>max</th>\n",
       "      <td>5.000000</td>\n",
       "      <td>1.000000</td>\n",
       "    </tr>\n",
       "  </tbody>\n",
       "</table>\n",
       "</div>"
      ],
      "text/plain": [
       "            rating     feedback\n",
       "count  3149.000000  3149.000000\n",
       "mean      4.463957     0.918704\n",
       "std       1.067773     0.273332\n",
       "min       1.000000     0.000000\n",
       "25%       4.000000     1.000000\n",
       "50%       5.000000     1.000000\n",
       "75%       5.000000     1.000000\n",
       "max       5.000000     1.000000"
      ]
     },
     "execution_count": 7,
     "metadata": {},
     "output_type": "execute_result"
    }
   ],
   "source": [
    "reviews_df.describe()"
   ]
  },
  {
   "cell_type": "markdown",
   "id": "f79c43a2-fa07-4eb1-8d2b-380603853303",
   "metadata": {},
   "source": [
    "### The average rating for the AMAZON echo products is 4.4"
   ]
  },
  {
   "cell_type": "code",
   "execution_count": 8,
   "id": "a070dc35-2ed4-420e-9905-ad33fa1855e6",
   "metadata": {},
   "outputs": [
    {
     "data": {
      "text/plain": [
       "<Axes: xlabel='rating', ylabel='count'>"
      ]
     },
     "execution_count": 8,
     "metadata": {},
     "output_type": "execute_result"
    },
    {
     "data": {
      "image/png": "[encoded data removed]",
      "text/plain": [
       "<Figure size 640x480 with 1 Axes>"
      ]
     },
     "metadata": {},
     "output_type": "display_data"
    }
   ],
   "source": [
    "sns.countplot(x = reviews_df['rating'])"
   ]
  },
  {
   "cell_type": "markdown",
   "id": "c8baca67-2d37-4750-ac1b-e8edc1de3ead",
   "metadata": {},
   "source": [
    "### * Most of the customer ratings are 5 followed by 4 \n",
    "### * Most of the customers like the AMAZON echo products"
   ]
  },
  {
   "cell_type": "code",
   "execution_count": 9,
   "id": "b4d7e5fa-bcd8-4ff9-98fb-b50f04f88247",
   "metadata": {},
   "outputs": [],
   "source": [
    "reviews_df['length'] = reviews_df['verified_reviews'].apply(len)"
   ]
  },
  {
   "cell_type": "code",
   "execution_count": 10,
   "id": "103c070b-242e-4d16-a6fd-1e2d7c38eca7",
   "metadata": {},
   "outputs": [
    {
     "data": {
      "text/html": [
       "<div>\n",
       "<style scoped>\n",
       "    .dataframe tbody tr th:only-of-type {\n",
       "        vertical-align: middle;\n",
       "    }\n",
       "\n",
       "    .dataframe tbody tr th {\n",
       "        vertical-align: top;\n",
       "    }\n",
       "\n",
       "    .dataframe thead th {\n",
       "        text-align: right;\n",
       "    }\n",
       "</style>\n",
       "<table border=\"1\" class=\"dataframe\">\n",
       "  <thead>\n",
       "    <tr style=\"text-align: right;\">\n",
       "      <th></th>\n",
       "      <th>rating</th>\n",
       "      <th>date</th>\n",
       "      <th>variation</th>\n",
       "      <th>verified_reviews</th>\n",
       "      <th>feedback</th>\n",
       "      <th>length</th>\n",
       "    </tr>\n",
       "  </thead>\n",
       "  <tbody>\n",
       "    <tr>\n",
       "      <th>0</th>\n",
       "      <td>5</td>\n",
       "      <td>31-Jul-18</td>\n",
       "      <td>Charcoal Fabric</td>\n",
       "      <td>Love my Echo!</td>\n",
       "      <td>1</td>\n",
       "      <td>13</td>\n",
       "    </tr>\n",
       "    <tr>\n",
       "      <th>1</th>\n",
       "      <td>5</td>\n",
       "      <td>31-Jul-18</td>\n",
       "      <td>Charcoal Fabric</td>\n",
       "      <td>Loved it!</td>\n",
       "      <td>1</td>\n",
       "      <td>9</td>\n",
       "    </tr>\n",
       "    <tr>\n",
       "      <th>2</th>\n",
       "      <td>4</td>\n",
       "      <td>31-Jul-18</td>\n",
       "      <td>Walnut Finish</td>\n",
       "      <td>Sometimes while playing a game, you can answer...</td>\n",
       "      <td>1</td>\n",
       "      <td>195</td>\n",
       "    </tr>\n",
       "    <tr>\n",
       "      <th>3</th>\n",
       "      <td>5</td>\n",
       "      <td>31-Jul-18</td>\n",
       "      <td>Charcoal Fabric</td>\n",
       "      <td>I have had a lot of fun with this thing. My 4 ...</td>\n",
       "      <td>1</td>\n",
       "      <td>172</td>\n",
       "    </tr>\n",
       "    <tr>\n",
       "      <th>4</th>\n",
       "      <td>5</td>\n",
       "      <td>31-Jul-18</td>\n",
       "      <td>Charcoal Fabric</td>\n",
       "      <td>Music</td>\n",
       "      <td>1</td>\n",
       "      <td>5</td>\n",
       "    </tr>\n",
       "    <tr>\n",
       "      <th>...</th>\n",
       "      <td>...</td>\n",
       "      <td>...</td>\n",
       "      <td>...</td>\n",
       "      <td>...</td>\n",
       "      <td>...</td>\n",
       "      <td>...</td>\n",
       "    </tr>\n",
       "    <tr>\n",
       "      <th>3145</th>\n",
       "      <td>5</td>\n",
       "      <td>30-Jul-18</td>\n",
       "      <td>Black  Dot</td>\n",
       "      <td>Perfect for kids, adults and everyone in betwe...</td>\n",
       "      <td>1</td>\n",
       "      <td>50</td>\n",
       "    </tr>\n",
       "    <tr>\n",
       "      <th>3146</th>\n",
       "      <td>5</td>\n",
       "      <td>30-Jul-18</td>\n",
       "      <td>Black  Dot</td>\n",
       "      <td>Listening to music, searching locations, check...</td>\n",
       "      <td>1</td>\n",
       "      <td>135</td>\n",
       "    </tr>\n",
       "    <tr>\n",
       "      <th>3147</th>\n",
       "      <td>5</td>\n",
       "      <td>30-Jul-18</td>\n",
       "      <td>Black  Dot</td>\n",
       "      <td>I do love these things, i have them running my...</td>\n",
       "      <td>1</td>\n",
       "      <td>441</td>\n",
       "    </tr>\n",
       "    <tr>\n",
       "      <th>3148</th>\n",
       "      <td>5</td>\n",
       "      <td>30-Jul-18</td>\n",
       "      <td>White  Dot</td>\n",
       "      <td>Only complaint I have is that the sound qualit...</td>\n",
       "      <td>1</td>\n",
       "      <td>380</td>\n",
       "    </tr>\n",
       "    <tr>\n",
       "      <th>3149</th>\n",
       "      <td>4</td>\n",
       "      <td>29-Jul-18</td>\n",
       "      <td>Black  Dot</td>\n",
       "      <td>Good</td>\n",
       "      <td>1</td>\n",
       "      <td>4</td>\n",
       "    </tr>\n",
       "  </tbody>\n",
       "</table>\n",
       "<p>3149 rows × 6 columns</p>\n",
       "</div>"
      ],
      "text/plain": [
       "      rating       date         variation  \\\n",
       "0          5  31-Jul-18  Charcoal Fabric    \n",
       "1          5  31-Jul-18  Charcoal Fabric    \n",
       "2          4  31-Jul-18    Walnut Finish    \n",
       "3          5  31-Jul-18  Charcoal Fabric    \n",
       "4          5  31-Jul-18  Charcoal Fabric    \n",
       "...      ...        ...               ...   \n",
       "3145       5  30-Jul-18        Black  Dot   \n",
       "3146       5  30-Jul-18        Black  Dot   \n",
       "3147       5  30-Jul-18        Black  Dot   \n",
       "3148       5  30-Jul-18        White  Dot   \n",
       "3149       4  29-Jul-18        Black  Dot   \n",
       "\n",
       "                                       verified_reviews  feedback  length  \n",
       "0                                         Love my Echo!         1      13  \n",
       "1                                             Loved it!         1       9  \n",
       "2     Sometimes while playing a game, you can answer...         1     195  \n",
       "3     I have had a lot of fun with this thing. My 4 ...         1     172  \n",
       "4                                                 Music         1       5  \n",
       "...                                                 ...       ...     ...  \n",
       "3145  Perfect for kids, adults and everyone in betwe...         1      50  \n",
       "3146  Listening to music, searching locations, check...         1     135  \n",
       "3147  I do love these things, i have them running my...         1     441  \n",
       "3148  Only complaint I have is that the sound qualit...         1     380  \n",
       "3149                                               Good         1       4  \n",
       "\n",
       "[3149 rows x 6 columns]"
      ]
     },
     "execution_count": 10,
     "metadata": {},
     "output_type": "execute_result"
    }
   ],
   "source": [
    "reviews_df"
   ]
  },
  {
   "cell_type": "code",
   "execution_count": 11,
   "id": "ca49d614-687f-4065-ad9e-4a054670f043",
   "metadata": {},
   "outputs": [
    {
     "data": {
      "text/html": [
       "<div>\n",
       "<style scoped>\n",
       "    .dataframe tbody tr th:only-of-type {\n",
       "        vertical-align: middle;\n",
       "    }\n",
       "\n",
       "    .dataframe tbody tr th {\n",
       "        vertical-align: top;\n",
       "    }\n",
       "\n",
       "    .dataframe thead th {\n",
       "        text-align: right;\n",
       "    }\n",
       "</style>\n",
       "<table border=\"1\" class=\"dataframe\">\n",
       "  <thead>\n",
       "    <tr style=\"text-align: right;\">\n",
       "      <th></th>\n",
       "      <th>rating</th>\n",
       "      <th>feedback</th>\n",
       "      <th>length</th>\n",
       "    </tr>\n",
       "  </thead>\n",
       "  <tbody>\n",
       "    <tr>\n",
       "      <th>count</th>\n",
       "      <td>3149.000000</td>\n",
       "      <td>3149.000000</td>\n",
       "      <td>3149.000000</td>\n",
       "    </tr>\n",
       "    <tr>\n",
       "      <th>mean</th>\n",
       "      <td>4.463957</td>\n",
       "      <td>0.918704</td>\n",
       "      <td>132.090187</td>\n",
       "    </tr>\n",
       "    <tr>\n",
       "      <th>std</th>\n",
       "      <td>1.067773</td>\n",
       "      <td>0.273332</td>\n",
       "      <td>182.114569</td>\n",
       "    </tr>\n",
       "    <tr>\n",
       "      <th>min</th>\n",
       "      <td>1.000000</td>\n",
       "      <td>0.000000</td>\n",
       "      <td>1.000000</td>\n",
       "    </tr>\n",
       "    <tr>\n",
       "      <th>25%</th>\n",
       "      <td>4.000000</td>\n",
       "      <td>1.000000</td>\n",
       "      <td>30.000000</td>\n",
       "    </tr>\n",
       "    <tr>\n",
       "      <th>50%</th>\n",
       "      <td>5.000000</td>\n",
       "      <td>1.000000</td>\n",
       "      <td>74.000000</td>\n",
       "    </tr>\n",
       "    <tr>\n",
       "      <th>75%</th>\n",
       "      <td>5.000000</td>\n",
       "      <td>1.000000</td>\n",
       "      <td>165.000000</td>\n",
       "    </tr>\n",
       "    <tr>\n",
       "      <th>max</th>\n",
       "      <td>5.000000</td>\n",
       "      <td>1.000000</td>\n",
       "      <td>2851.000000</td>\n",
       "    </tr>\n",
       "  </tbody>\n",
       "</table>\n",
       "</div>"
      ],
      "text/plain": [
       "            rating     feedback       length\n",
       "count  3149.000000  3149.000000  3149.000000\n",
       "mean      4.463957     0.918704   132.090187\n",
       "std       1.067773     0.273332   182.114569\n",
       "min       1.000000     0.000000     1.000000\n",
       "25%       4.000000     1.000000    30.000000\n",
       "50%       5.000000     1.000000    74.000000\n",
       "75%       5.000000     1.000000   165.000000\n",
       "max       5.000000     1.000000  2851.000000"
      ]
     },
     "execution_count": 11,
     "metadata": {},
     "output_type": "execute_result"
    }
   ],
   "source": [
    "reviews_df.describe()"
   ]
  },
  {
   "cell_type": "markdown",
   "id": "10c1fe6c-5ba6-491d-9b5c-c939e328a50e",
   "metadata": {},
   "source": [
    "### * The average length of the customer review texts are 132 characters\n",
    "### * We could say that most of the reviews are shorter\n",
    "### * Max length of the review is 2851 characters\n",
    "### * Min being 1, this could be simply an emoji"
   ]
  },
  {
   "cell_type": "code",
   "execution_count": 12,
   "id": "a8be979d-ce6c-403b-a23f-9bc34a2750c3",
   "metadata": {},
   "outputs": [
    {
     "data": {
      "text/plain": [
       "<Axes: >"
      ]
     },
     "execution_count": 12,
     "metadata": {},
     "output_type": "execute_result"
    },
    {
     "data": {
      "image/png": "[encoded data removed]",
      "text/plain": [
       "<Figure size 640x480 with 1 Axes>"
      ]
     },
     "metadata": {},
     "output_type": "display_data"
    }
   ],
   "source": [
    "reviews_df['length'].hist(bins=50)"
   ]
  },
  {
   "cell_type": "raw",
   "id": "8ef6e5a3-bbdf-41be-a9bf-6578da8fe4a9",
   "metadata": {},
   "source": [
    "* The reviews length distribution suggests that most of the reviews length are between 1 - 200"
   ]
  },
  {
   "cell_type": "code",
   "execution_count": 13,
   "id": "a880ad3b-46bb-4e44-ac28-a72e6a673f0a",
   "metadata": {},
   "outputs": [
    {
     "data": {
      "text/plain": [
       "<Axes: xlabel='feedback', ylabel='count'>"
      ]
     },
     "execution_count": 13,
     "metadata": {},
     "output_type": "execute_result"
    },
    {
     "data": {
      "image/png": "[encoded data removed]",
      "text/plain": [
       "<Figure size 640x480 with 1 Axes>"
      ]
     },
     "metadata": {},
     "output_type": "display_data"
    }
   ],
   "source": [
    "sns.countplot(x = reviews_df['feedback'])"
   ]
  },
  {
   "cell_type": "markdown",
   "id": "9a5fdbcf-ad78-43e7-9b2c-8d9cc264cac7",
   "metadata": {},
   "source": [
    "### * Most of the customer feedback is Positive\n",
    "### * Positive is almost 12x times of the negative review\n",
    "### * Definitely people like AMAZON echo "
   ]
  },
  {
   "cell_type": "markdown",
   "id": "e93cf6d0-cc66-4add-abcd-e05caeca9bc0",
   "metadata": {},
   "source": [
    "### Lets filter positive nad negative reviews"
   ]
  },
  {
   "cell_type": "code",
   "execution_count": 14,
   "id": "f6578f06-59be-4299-9af7-62a8a2196cf9",
   "metadata": {},
   "outputs": [
    {
     "data": {
      "text/html": [
       "<div>\n",
       "<style scoped>\n",
       "    .dataframe tbody tr th:only-of-type {\n",
       "        vertical-align: middle;\n",
       "    }\n",
       "\n",
       "    .dataframe tbody tr th {\n",
       "        vertical-align: top;\n",
       "    }\n",
       "\n",
       "    .dataframe thead th {\n",
       "        text-align: right;\n",
       "    }\n",
       "</style>\n",
       "<table border=\"1\" class=\"dataframe\">\n",
       "  <thead>\n",
       "    <tr style=\"text-align: right;\">\n",
       "      <th></th>\n",
       "      <th>rating</th>\n",
       "      <th>date</th>\n",
       "      <th>variation</th>\n",
       "      <th>verified_reviews</th>\n",
       "      <th>feedback</th>\n",
       "      <th>length</th>\n",
       "    </tr>\n",
       "  </thead>\n",
       "  <tbody>\n",
       "    <tr>\n",
       "      <th>0</th>\n",
       "      <td>5</td>\n",
       "      <td>31-Jul-18</td>\n",
       "      <td>Charcoal Fabric</td>\n",
       "      <td>Love my Echo!</td>\n",
       "      <td>1</td>\n",
       "      <td>13</td>\n",
       "    </tr>\n",
       "    <tr>\n",
       "      <th>1</th>\n",
       "      <td>5</td>\n",
       "      <td>31-Jul-18</td>\n",
       "      <td>Charcoal Fabric</td>\n",
       "      <td>Loved it!</td>\n",
       "      <td>1</td>\n",
       "      <td>9</td>\n",
       "    </tr>\n",
       "    <tr>\n",
       "      <th>2</th>\n",
       "      <td>4</td>\n",
       "      <td>31-Jul-18</td>\n",
       "      <td>Walnut Finish</td>\n",
       "      <td>Sometimes while playing a game, you can answer...</td>\n",
       "      <td>1</td>\n",
       "      <td>195</td>\n",
       "    </tr>\n",
       "    <tr>\n",
       "      <th>3</th>\n",
       "      <td>5</td>\n",
       "      <td>31-Jul-18</td>\n",
       "      <td>Charcoal Fabric</td>\n",
       "      <td>I have had a lot of fun with this thing. My 4 ...</td>\n",
       "      <td>1</td>\n",
       "      <td>172</td>\n",
       "    </tr>\n",
       "    <tr>\n",
       "      <th>4</th>\n",
       "      <td>5</td>\n",
       "      <td>31-Jul-18</td>\n",
       "      <td>Charcoal Fabric</td>\n",
       "      <td>Music</td>\n",
       "      <td>1</td>\n",
       "      <td>5</td>\n",
       "    </tr>\n",
       "    <tr>\n",
       "      <th>...</th>\n",
       "      <td>...</td>\n",
       "      <td>...</td>\n",
       "      <td>...</td>\n",
       "      <td>...</td>\n",
       "      <td>...</td>\n",
       "      <td>...</td>\n",
       "    </tr>\n",
       "    <tr>\n",
       "      <th>3145</th>\n",
       "      <td>5</td>\n",
       "      <td>30-Jul-18</td>\n",
       "      <td>Black  Dot</td>\n",
       "      <td>Perfect for kids, adults and everyone in betwe...</td>\n",
       "      <td>1</td>\n",
       "      <td>50</td>\n",
       "    </tr>\n",
       "    <tr>\n",
       "      <th>3146</th>\n",
       "      <td>5</td>\n",
       "      <td>30-Jul-18</td>\n",
       "      <td>Black  Dot</td>\n",
       "      <td>Listening to music, searching locations, check...</td>\n",
       "      <td>1</td>\n",
       "      <td>135</td>\n",
       "    </tr>\n",
       "    <tr>\n",
       "      <th>3147</th>\n",
       "      <td>5</td>\n",
       "      <td>30-Jul-18</td>\n",
       "      <td>Black  Dot</td>\n",
       "      <td>I do love these things, i have them running my...</td>\n",
       "      <td>1</td>\n",
       "      <td>441</td>\n",
       "    </tr>\n",
       "    <tr>\n",
       "      <th>3148</th>\n",
       "      <td>5</td>\n",
       "      <td>30-Jul-18</td>\n",
       "      <td>White  Dot</td>\n",
       "      <td>Only complaint I have is that the sound qualit...</td>\n",
       "      <td>1</td>\n",
       "      <td>380</td>\n",
       "    </tr>\n",
       "    <tr>\n",
       "      <th>3149</th>\n",
       "      <td>4</td>\n",
       "      <td>29-Jul-18</td>\n",
       "      <td>Black  Dot</td>\n",
       "      <td>Good</td>\n",
       "      <td>1</td>\n",
       "      <td>4</td>\n",
       "    </tr>\n",
       "  </tbody>\n",
       "</table>\n",
       "<p>2893 rows × 6 columns</p>\n",
       "</div>"
      ],
      "text/plain": [
       "      rating       date         variation  \\\n",
       "0          5  31-Jul-18  Charcoal Fabric    \n",
       "1          5  31-Jul-18  Charcoal Fabric    \n",
       "2          4  31-Jul-18    Walnut Finish    \n",
       "3          5  31-Jul-18  Charcoal Fabric    \n",
       "4          5  31-Jul-18  Charcoal Fabric    \n",
       "...      ...        ...               ...   \n",
       "3145       5  30-Jul-18        Black  Dot   \n",
       "3146       5  30-Jul-18        Black  Dot   \n",
       "3147       5  30-Jul-18        Black  Dot   \n",
       "3148       5  30-Jul-18        White  Dot   \n",
       "3149       4  29-Jul-18        Black  Dot   \n",
       "\n",
       "                                       verified_reviews  feedback  length  \n",
       "0                                         Love my Echo!         1      13  \n",
       "1                                             Loved it!         1       9  \n",
       "2     Sometimes while playing a game, you can answer...         1     195  \n",
       "3     I have had a lot of fun with this thing. My 4 ...         1     172  \n",
       "4                                                 Music         1       5  \n",
       "...                                                 ...       ...     ...  \n",
       "3145  Perfect for kids, adults and everyone in betwe...         1      50  \n",
       "3146  Listening to music, searching locations, check...         1     135  \n",
       "3147  I do love these things, i have them running my...         1     441  \n",
       "3148  Only complaint I have is that the sound qualit...         1     380  \n",
       "3149                                               Good         1       4  \n",
       "\n",
       "[2893 rows x 6 columns]"
      ]
     },
     "execution_count": 14,
     "metadata": {},
     "output_type": "execute_result"
    }
   ],
   "source": [
    "positive = reviews_df[reviews_df['feedback'] == 1]\n",
    "positive"
   ]
  },
  {
   "cell_type": "code",
   "execution_count": 15,
   "id": "aa778f6e-391a-4ab5-bc87-f5573addc987",
   "metadata": {},
   "outputs": [
    {
     "data": {
      "text/html": [
       "<div>\n",
       "<style scoped>\n",
       "    .dataframe tbody tr th:only-of-type {\n",
       "        vertical-align: middle;\n",
       "    }\n",
       "\n",
       "    .dataframe tbody tr th {\n",
       "        vertical-align: top;\n",
       "    }\n",
       "\n",
       "    .dataframe thead th {\n",
       "        text-align: right;\n",
       "    }\n",
       "</style>\n",
       "<table border=\"1\" class=\"dataframe\">\n",
       "  <thead>\n",
       "    <tr style=\"text-align: right;\">\n",
       "      <th></th>\n",
       "      <th>rating</th>\n",
       "      <th>date</th>\n",
       "      <th>variation</th>\n",
       "      <th>verified_reviews</th>\n",
       "      <th>feedback</th>\n",
       "      <th>length</th>\n",
       "    </tr>\n",
       "  </thead>\n",
       "  <tbody>\n",
       "    <tr>\n",
       "      <th>46</th>\n",
       "      <td>2</td>\n",
       "      <td>30-Jul-18</td>\n",
       "      <td>Charcoal Fabric</td>\n",
       "      <td>It's like Siri, in fact, Siri answers more acc...</td>\n",
       "      <td>0</td>\n",
       "      <td>163</td>\n",
       "    </tr>\n",
       "    <tr>\n",
       "      <th>111</th>\n",
       "      <td>2</td>\n",
       "      <td>30-Jul-18</td>\n",
       "      <td>Charcoal Fabric</td>\n",
       "      <td>Sound is terrible if u want good music too get...</td>\n",
       "      <td>0</td>\n",
       "      <td>53</td>\n",
       "    </tr>\n",
       "    <tr>\n",
       "      <th>141</th>\n",
       "      <td>1</td>\n",
       "      <td>30-Jul-18</td>\n",
       "      <td>Charcoal Fabric</td>\n",
       "      <td>Not much features.</td>\n",
       "      <td>0</td>\n",
       "      <td>18</td>\n",
       "    </tr>\n",
       "    <tr>\n",
       "      <th>162</th>\n",
       "      <td>1</td>\n",
       "      <td>30-Jul-18</td>\n",
       "      <td>Sandstone Fabric</td>\n",
       "      <td>Stopped working after 2 weeks ,didn't follow c...</td>\n",
       "      <td>0</td>\n",
       "      <td>87</td>\n",
       "    </tr>\n",
       "    <tr>\n",
       "      <th>176</th>\n",
       "      <td>2</td>\n",
       "      <td>30-Jul-18</td>\n",
       "      <td>Heather Gray Fabric</td>\n",
       "      <td>Sad joke. Worthless.</td>\n",
       "      <td>0</td>\n",
       "      <td>20</td>\n",
       "    </tr>\n",
       "    <tr>\n",
       "      <th>...</th>\n",
       "      <td>...</td>\n",
       "      <td>...</td>\n",
       "      <td>...</td>\n",
       "      <td>...</td>\n",
       "      <td>...</td>\n",
       "      <td>...</td>\n",
       "    </tr>\n",
       "    <tr>\n",
       "      <th>3047</th>\n",
       "      <td>1</td>\n",
       "      <td>30-Jul-18</td>\n",
       "      <td>Black  Dot</td>\n",
       "      <td>Echo Dot responds to us when we aren't even ta...</td>\n",
       "      <td>0</td>\n",
       "      <td>120</td>\n",
       "    </tr>\n",
       "    <tr>\n",
       "      <th>3048</th>\n",
       "      <td>1</td>\n",
       "      <td>30-Jul-18</td>\n",
       "      <td>White  Dot</td>\n",
       "      <td>NOT CONNECTED TO MY PHONE PLAYLIST :(</td>\n",
       "      <td>0</td>\n",
       "      <td>37</td>\n",
       "    </tr>\n",
       "    <tr>\n",
       "      <th>3067</th>\n",
       "      <td>2</td>\n",
       "      <td>30-Jul-18</td>\n",
       "      <td>Black  Dot</td>\n",
       "      <td>The only negative we have on this product is t...</td>\n",
       "      <td>0</td>\n",
       "      <td>240</td>\n",
       "    </tr>\n",
       "    <tr>\n",
       "      <th>3091</th>\n",
       "      <td>1</td>\n",
       "      <td>30-Jul-18</td>\n",
       "      <td>Black  Dot</td>\n",
       "      <td>I didn’t order it</td>\n",
       "      <td>0</td>\n",
       "      <td>17</td>\n",
       "    </tr>\n",
       "    <tr>\n",
       "      <th>3096</th>\n",
       "      <td>1</td>\n",
       "      <td>30-Jul-18</td>\n",
       "      <td>White  Dot</td>\n",
       "      <td>The product sounded the same as the emoji spea...</td>\n",
       "      <td>0</td>\n",
       "      <td>210</td>\n",
       "    </tr>\n",
       "  </tbody>\n",
       "</table>\n",
       "<p>256 rows × 6 columns</p>\n",
       "</div>"
      ],
      "text/plain": [
       "      rating       date             variation  \\\n",
       "46         2  30-Jul-18      Charcoal Fabric    \n",
       "111        2  30-Jul-18      Charcoal Fabric    \n",
       "141        1  30-Jul-18      Charcoal Fabric    \n",
       "162        1  30-Jul-18     Sandstone Fabric    \n",
       "176        2  30-Jul-18  Heather Gray Fabric    \n",
       "...      ...        ...                   ...   \n",
       "3047       1  30-Jul-18            Black  Dot   \n",
       "3048       1  30-Jul-18            White  Dot   \n",
       "3067       2  30-Jul-18            Black  Dot   \n",
       "3091       1  30-Jul-18            Black  Dot   \n",
       "3096       1  30-Jul-18            White  Dot   \n",
       "\n",
       "                                       verified_reviews  feedback  length  \n",
       "46    It's like Siri, in fact, Siri answers more acc...         0     163  \n",
       "111   Sound is terrible if u want good music too get...         0      53  \n",
       "141                                  Not much features.         0      18  \n",
       "162   Stopped working after 2 weeks ,didn't follow c...         0      87  \n",
       "176                                Sad joke. Worthless.         0      20  \n",
       "...                                                 ...       ...     ...  \n",
       "3047  Echo Dot responds to us when we aren't even ta...         0     120  \n",
       "3048              NOT CONNECTED TO MY PHONE PLAYLIST :(         0      37  \n",
       "3067  The only negative we have on this product is t...         0     240  \n",
       "3091                                  I didn’t order it         0      17  \n",
       "3096  The product sounded the same as the emoji spea...         0     210  \n",
       "\n",
       "[256 rows x 6 columns]"
      ]
     },
     "execution_count": 15,
     "metadata": {},
     "output_type": "execute_result"
    }
   ],
   "source": [
    "negative = reviews_df[reviews_df['feedback'] == 0]\n",
    "negative"
   ]
  },
  {
   "cell_type": "code",
   "execution_count": null,
   "id": "b08a326c-d571-440e-9b7b-6220ece403c9",
   "metadata": {},
   "outputs": [],
   "source": [
    "positive_sentence = ' '.join(positive['verified_reviews'])\n",
    "positive_sentence"
   ]
  },
  {
   "cell_type": "code",
   "execution_count": null,
   "id": "3c3f9cf3-adad-4c2c-a766-796a37a4b9c4",
   "metadata": {},
   "outputs": [],
   "source": [
    "negative_sentence = ' '.join(negative['verified_reviews'])\n",
    "negative_sentence"
   ]
  },
  {
   "cell_type": "code",
   "execution_count": 18,
   "id": "fad368b3-6c9d-411c-9f2c-041fa7b885ef",
   "metadata": {
    "scrolled": true
   },
   "outputs": [
    {
     "name": "stdout",
     "output_type": "stream",
     "text": [
      "Requirement already satisfied: wordcloud in /opt/anaconda3/lib/python3.11/site-packages (1.9.3)\n",
      "Requirement already satisfied: numpy>=1.6.1 in /opt/anaconda3/lib/python3.11/site-packages (from wordcloud) (1.26.4)\n",
      "Requirement already satisfied: pillow in /opt/anaconda3/lib/python3.11/site-packages (from wordcloud) (10.2.0)\n",
      "Requirement already satisfied: matplotlib in /opt/anaconda3/lib/python3.11/site-packages (from wordcloud) (3.8.0)\n",
      "Requirement already satisfied: contourpy>=1.0.1 in /opt/anaconda3/lib/python3.11/site-packages (from matplotlib->wordcloud) (1.2.0)\n",
      "Requirement already satisfied: cycler>=0.10 in /opt/anaconda3/lib/python3.11/site-packages (from matplotlib->wordcloud) (0.11.0)\n",
      "Requirement already satisfied: fonttools>=4.22.0 in /opt/anaconda3/lib/python3.11/site-packages (from matplotlib->wordcloud) (4.25.0)\n",
      "Requirement already satisfied: kiwisolver>=1.0.1 in /opt/anaconda3/lib/python3.11/site-packages (from matplotlib->wordcloud) (1.4.4)\n",
      "Requirement already satisfied: packaging>=20.0 in /opt/anaconda3/lib/python3.11/site-packages (from matplotlib->wordcloud) (24.1)\n",
      "Requirement already satisfied: pyparsing>=2.3.1 in /opt/anaconda3/lib/python3.11/site-packages (from matplotlib->wordcloud) (3.0.9)\n",
      "Requirement already satisfied: python-dateutil>=2.7 in /opt/anaconda3/lib/python3.11/site-packages (from matplotlib->wordcloud) (2.8.2)\n",
      "Requirement already satisfied: six>=1.5 in /opt/anaconda3/lib/python3.11/site-packages (from python-dateutil>=2.7->matplotlib->wordcloud) (1.16.0)\n"
     ]
    }
   ],
   "source": [
    "!pip install wordcloud"
   ]
  },
  {
   "cell_type": "code",
   "execution_count": 19,
   "id": "386ad440-bcb5-4947-a164-9d7083743335",
   "metadata": {},
   "outputs": [],
   "source": [
    "from wordcloud import WordCloud"
   ]
  },
  {
   "cell_type": "code",
   "execution_count": 20,
   "id": "67dda0a1-0b18-4ba8-83dd-4fb59a095068",
   "metadata": {},
   "outputs": [
    {
     "data": {
      "text/plain": [
       "<matplotlib.image.AxesImage at 0x129909290>"
      ]
     },
     "execution_count": 20,
     "metadata": {},
     "output_type": "execute_result"
    },
    {
     "data": {
      "image/png": "[encoded data removed]",
      "text/plain": [
       "<Figure size 2000x2000 with 1 Axes>"
      ]
     },
     "metadata": {},
     "output_type": "display_data"
    }
   ],
   "source": [
    "plt.figure(figsize=(20,20))\n",
    "plt.imshow(WordCloud().generate(positive_sentence))"
   ]
  },
  {
   "cell_type": "markdown",
   "id": "c7b4fa62-0bd2-4e48-87ac-008c7503e7cc",
   "metadata": {},
   "source": [
    "### The top words from positive reviews are \n",
    "* Love\n",
    "* Alexa\n",
    "* Echo\n",
    "* Great\n",
    "* Music"
   ]
  },
  {
   "cell_type": "code",
   "execution_count": 21,
   "id": "1328720a-3a79-4cab-a3a7-45fb2ec8d6ab",
   "metadata": {},
   "outputs": [
    {
     "data": {
      "text/plain": [
       "<matplotlib.image.AxesImage at 0x129a51910>"
      ]
     },
     "execution_count": 21,
     "metadata": {},
     "output_type": "execute_result"
    },
    {
     "data": {
      "image/png": "[encoded data removed]",
      "text/plain": [
       "<Figure size 2000x2000 with 1 Axes>"
      ]
     },
     "metadata": {},
     "output_type": "display_data"
    }
   ],
   "source": [
    "plt.figure(figsize=(20,20))\n",
    "plt.imshow(WordCloud().generate(negative_sentence))"
   ]
  },
  {
   "cell_type": "markdown",
   "id": "2285e18f-2409-4622-a6d7-ea436e58be95",
   "metadata": {},
   "source": [
    "### The top words fro negative reviews are \n",
    "* device\n",
    "* Amazon\n",
    "* work\n",
    "* Alexa\n",
    "* time"
   ]
  },
  {
   "cell_type": "markdown",
   "id": "91c3ce27-2aec-4387-8da3-2381a626939f",
   "metadata": {},
   "source": [
    "## DATA CLEANING"
   ]
  },
  {
   "cell_type": "code",
   "execution_count": 22,
   "id": "baed96e4-b319-49e3-96cd-2f9f7706e4b7",
   "metadata": {},
   "outputs": [
    {
     "name": "stderr",
     "output_type": "stream",
     "text": [
      "[nltk_data] Downloading package stopwords to\n",
      "[nltk_data]     /Users/sowmyakuruba/nltk_data...\n",
      "[nltk_data]   Package stopwords is already up-to-date!\n"
     ]
    },
    {
     "data": {
      "text/plain": [
       "['i',\n",
       " 'me',\n",
       " 'my',\n",
       " 'myself',\n",
       " 'we',\n",
       " 'our',\n",
       " 'ours',\n",
       " 'ourselves',\n",
       " 'you',\n",
       " \"you're\",\n",
       " \"you've\",\n",
       " \"you'll\",\n",
       " \"you'd\",\n",
       " 'your',\n",
       " 'yours',\n",
       " 'yourself',\n",
       " 'yourselves',\n",
       " 'he',\n",
       " 'him',\n",
       " 'his',\n",
       " 'himself',\n",
       " 'she',\n",
       " \"she's\",\n",
       " 'her',\n",
       " 'hers',\n",
       " 'herself',\n",
       " 'it',\n",
       " \"it's\",\n",
       " 'its',\n",
       " 'itself',\n",
       " 'they',\n",
       " 'them',\n",
       " 'their',\n",
       " 'theirs',\n",
       " 'themselves',\n",
       " 'what',\n",
       " 'which',\n",
       " 'who',\n",
       " 'whom',\n",
       " 'this',\n",
       " 'that',\n",
       " \"that'll\",\n",
       " 'these',\n",
       " 'those',\n",
       " 'am',\n",
       " 'is',\n",
       " 'are',\n",
       " 'was',\n",
       " 'were',\n",
       " 'be',\n",
       " 'been',\n",
       " 'being',\n",
       " 'have',\n",
       " 'has',\n",
       " 'had',\n",
       " 'having',\n",
       " 'do',\n",
       " 'does',\n",
       " 'did',\n",
       " 'doing',\n",
       " 'a',\n",
       " 'an',\n",
       " 'the',\n",
       " 'and',\n",
       " 'but',\n",
       " 'if',\n",
       " 'or',\n",
       " 'because',\n",
       " 'as',\n",
       " 'until',\n",
       " 'while',\n",
       " 'of',\n",
       " 'at',\n",
       " 'by',\n",
       " 'for',\n",
       " 'with',\n",
       " 'about',\n",
       " 'against',\n",
       " 'between',\n",
       " 'into',\n",
       " 'through',\n",
       " 'during',\n",
       " 'before',\n",
       " 'after',\n",
       " 'above',\n",
       " 'below',\n",
       " 'to',\n",
       " 'from',\n",
       " 'up',\n",
       " 'down',\n",
       " 'in',\n",
       " 'out',\n",
       " 'on',\n",
       " 'off',\n",
       " 'over',\n",
       " 'under',\n",
       " 'again',\n",
       " 'further',\n",
       " 'then',\n",
       " 'once',\n",
       " 'here',\n",
       " 'there',\n",
       " 'when',\n",
       " 'where',\n",
       " 'why',\n",
       " 'how',\n",
       " 'all',\n",
       " 'any',\n",
       " 'both',\n",
       " 'each',\n",
       " 'few',\n",
       " 'more',\n",
       " 'most',\n",
       " 'other',\n",
       " 'some',\n",
       " 'such',\n",
       " 'no',\n",
       " 'nor',\n",
       " 'not',\n",
       " 'only',\n",
       " 'own',\n",
       " 'same',\n",
       " 'so',\n",
       " 'than',\n",
       " 'too',\n",
       " 'very',\n",
       " 's',\n",
       " 't',\n",
       " 'can',\n",
       " 'will',\n",
       " 'just',\n",
       " 'don',\n",
       " \"don't\",\n",
       " 'should',\n",
       " \"should've\",\n",
       " 'now',\n",
       " 'd',\n",
       " 'll',\n",
       " 'm',\n",
       " 'o',\n",
       " 're',\n",
       " 've',\n",
       " 'y',\n",
       " 'ain',\n",
       " 'aren',\n",
       " \"aren't\",\n",
       " 'couldn',\n",
       " \"couldn't\",\n",
       " 'didn',\n",
       " \"didn't\",\n",
       " 'doesn',\n",
       " \"doesn't\",\n",
       " 'hadn',\n",
       " \"hadn't\",\n",
       " 'hasn',\n",
       " \"hasn't\",\n",
       " 'haven',\n",
       " \"haven't\",\n",
       " 'isn',\n",
       " \"isn't\",\n",
       " 'ma',\n",
       " 'mightn',\n",
       " \"mightn't\",\n",
       " 'mustn',\n",
       " \"mustn't\",\n",
       " 'needn',\n",
       " \"needn't\",\n",
       " 'shan',\n",
       " \"shan't\",\n",
       " 'shouldn',\n",
       " \"shouldn't\",\n",
       " 'wasn',\n",
       " \"wasn't\",\n",
       " 'weren',\n",
       " \"weren't\",\n",
       " 'won',\n",
       " \"won't\",\n",
       " 'wouldn',\n",
       " \"wouldn't\"]"
      ]
     },
     "execution_count": 22,
     "metadata": {},
     "output_type": "execute_result"
    }
   ],
   "source": [
    "import string\n",
    "import nltk\n",
    "from nltk.corpus import stopwords\n",
    "nltk.download('stopwords')\n",
    "stopwords.words('english')"
   ]
  },
  {
   "cell_type": "markdown",
   "id": "01d2f763-0c55-4a8e-bc92-436568fa2a8d",
   "metadata": {},
   "source": [
    "### Remove punctuation and stop words"
   ]
  },
  {
   "cell_type": "code",
   "execution_count": 110,
   "id": "02f83009-95fa-47a7-ba0c-6875e64ba66b",
   "metadata": {},
   "outputs": [],
   "source": [
    "def clean_reviews(reviews):\n",
    "    remove_punc = [char for char in reviews if char not in string.punctuation]\n",
    "    removed_punc = ''.join(remove_punc)\n",
    "    remove_stopwords = [word for word in removed_punc.split() if word.lower() not in stopwords.words('english')]\n",
    "    return remove_stopwords"
   ]
  },
  {
   "cell_type": "code",
   "execution_count": 24,
   "id": "405ecb98-e927-4b3d-9579-e388a3bf32bb",
   "metadata": {},
   "outputs": [],
   "source": [
    "reviews_df['cleaned_reviews'] = reviews_df['verified_reviews'].apply(clean_reviews)"
   ]
  },
  {
   "cell_type": "code",
   "execution_count": 25,
   "id": "3bde110b-7d26-4022-8272-e1dcfd68b802",
   "metadata": {},
   "outputs": [
    {
     "data": {
      "text/html": [
       "<div>\n",
       "<style scoped>\n",
       "    .dataframe tbody tr th:only-of-type {\n",
       "        vertical-align: middle;\n",
       "    }\n",
       "\n",
       "    .dataframe tbody tr th {\n",
       "        vertical-align: top;\n",
       "    }\n",
       "\n",
       "    .dataframe thead th {\n",
       "        text-align: right;\n",
       "    }\n",
       "</style>\n",
       "<table border=\"1\" class=\"dataframe\">\n",
       "  <thead>\n",
       "    <tr style=\"text-align: right;\">\n",
       "      <th></th>\n",
       "      <th>rating</th>\n",
       "      <th>date</th>\n",
       "      <th>variation</th>\n",
       "      <th>verified_reviews</th>\n",
       "      <th>feedback</th>\n",
       "      <th>length</th>\n",
       "      <th>cleaned_reviews</th>\n",
       "    </tr>\n",
       "  </thead>\n",
       "  <tbody>\n",
       "    <tr>\n",
       "      <th>0</th>\n",
       "      <td>5</td>\n",
       "      <td>31-Jul-18</td>\n",
       "      <td>Charcoal Fabric</td>\n",
       "      <td>Love my Echo!</td>\n",
       "      <td>1</td>\n",
       "      <td>13</td>\n",
       "      <td>[Love, Echo]</td>\n",
       "    </tr>\n",
       "    <tr>\n",
       "      <th>1</th>\n",
       "      <td>5</td>\n",
       "      <td>31-Jul-18</td>\n",
       "      <td>Charcoal Fabric</td>\n",
       "      <td>Loved it!</td>\n",
       "      <td>1</td>\n",
       "      <td>9</td>\n",
       "      <td>[Loved]</td>\n",
       "    </tr>\n",
       "    <tr>\n",
       "      <th>2</th>\n",
       "      <td>4</td>\n",
       "      <td>31-Jul-18</td>\n",
       "      <td>Walnut Finish</td>\n",
       "      <td>Sometimes while playing a game, you can answer...</td>\n",
       "      <td>1</td>\n",
       "      <td>195</td>\n",
       "      <td>[Sometimes, playing, game, answer, question, c...</td>\n",
       "    </tr>\n",
       "    <tr>\n",
       "      <th>3</th>\n",
       "      <td>5</td>\n",
       "      <td>31-Jul-18</td>\n",
       "      <td>Charcoal Fabric</td>\n",
       "      <td>I have had a lot of fun with this thing. My 4 ...</td>\n",
       "      <td>1</td>\n",
       "      <td>172</td>\n",
       "      <td>[lot, fun, thing, 4, yr, old, learns, dinosaur...</td>\n",
       "    </tr>\n",
       "    <tr>\n",
       "      <th>4</th>\n",
       "      <td>5</td>\n",
       "      <td>31-Jul-18</td>\n",
       "      <td>Charcoal Fabric</td>\n",
       "      <td>Music</td>\n",
       "      <td>1</td>\n",
       "      <td>5</td>\n",
       "      <td>[Music]</td>\n",
       "    </tr>\n",
       "    <tr>\n",
       "      <th>...</th>\n",
       "      <td>...</td>\n",
       "      <td>...</td>\n",
       "      <td>...</td>\n",
       "      <td>...</td>\n",
       "      <td>...</td>\n",
       "      <td>...</td>\n",
       "      <td>...</td>\n",
       "    </tr>\n",
       "    <tr>\n",
       "      <th>3145</th>\n",
       "      <td>5</td>\n",
       "      <td>30-Jul-18</td>\n",
       "      <td>Black  Dot</td>\n",
       "      <td>Perfect for kids, adults and everyone in betwe...</td>\n",
       "      <td>1</td>\n",
       "      <td>50</td>\n",
       "      <td>[Perfect, kids, adults, everyone]</td>\n",
       "    </tr>\n",
       "    <tr>\n",
       "      <th>3146</th>\n",
       "      <td>5</td>\n",
       "      <td>30-Jul-18</td>\n",
       "      <td>Black  Dot</td>\n",
       "      <td>Listening to music, searching locations, check...</td>\n",
       "      <td>1</td>\n",
       "      <td>135</td>\n",
       "      <td>[Listening, music, searching, locations, check...</td>\n",
       "    </tr>\n",
       "    <tr>\n",
       "      <th>3147</th>\n",
       "      <td>5</td>\n",
       "      <td>30-Jul-18</td>\n",
       "      <td>Black  Dot</td>\n",
       "      <td>I do love these things, i have them running my...</td>\n",
       "      <td>1</td>\n",
       "      <td>441</td>\n",
       "      <td>[love, things, running, entire, home, TV, ligh...</td>\n",
       "    </tr>\n",
       "    <tr>\n",
       "      <th>3148</th>\n",
       "      <td>5</td>\n",
       "      <td>30-Jul-18</td>\n",
       "      <td>White  Dot</td>\n",
       "      <td>Only complaint I have is that the sound qualit...</td>\n",
       "      <td>1</td>\n",
       "      <td>380</td>\n",
       "      <td>[complaint, sound, quality, isnt, great, mostl...</td>\n",
       "    </tr>\n",
       "    <tr>\n",
       "      <th>3149</th>\n",
       "      <td>4</td>\n",
       "      <td>29-Jul-18</td>\n",
       "      <td>Black  Dot</td>\n",
       "      <td>Good</td>\n",
       "      <td>1</td>\n",
       "      <td>4</td>\n",
       "      <td>[Good]</td>\n",
       "    </tr>\n",
       "  </tbody>\n",
       "</table>\n",
       "<p>3149 rows × 7 columns</p>\n",
       "</div>"
      ],
      "text/plain": [
       "      rating       date         variation  \\\n",
       "0          5  31-Jul-18  Charcoal Fabric    \n",
       "1          5  31-Jul-18  Charcoal Fabric    \n",
       "2          4  31-Jul-18    Walnut Finish    \n",
       "3          5  31-Jul-18  Charcoal Fabric    \n",
       "4          5  31-Jul-18  Charcoal Fabric    \n",
       "...      ...        ...               ...   \n",
       "3145       5  30-Jul-18        Black  Dot   \n",
       "3146       5  30-Jul-18        Black  Dot   \n",
       "3147       5  30-Jul-18        Black  Dot   \n",
       "3148       5  30-Jul-18        White  Dot   \n",
       "3149       4  29-Jul-18        Black  Dot   \n",
       "\n",
       "                                       verified_reviews  feedback  length  \\\n",
       "0                                         Love my Echo!         1      13   \n",
       "1                                             Loved it!         1       9   \n",
       "2     Sometimes while playing a game, you can answer...         1     195   \n",
       "3     I have had a lot of fun with this thing. My 4 ...         1     172   \n",
       "4                                                 Music         1       5   \n",
       "...                                                 ...       ...     ...   \n",
       "3145  Perfect for kids, adults and everyone in betwe...         1      50   \n",
       "3146  Listening to music, searching locations, check...         1     135   \n",
       "3147  I do love these things, i have them running my...         1     441   \n",
       "3148  Only complaint I have is that the sound qualit...         1     380   \n",
       "3149                                               Good         1       4   \n",
       "\n",
       "                                        cleaned_reviews  \n",
       "0                                          [Love, Echo]  \n",
       "1                                               [Loved]  \n",
       "2     [Sometimes, playing, game, answer, question, c...  \n",
       "3     [lot, fun, thing, 4, yr, old, learns, dinosaur...  \n",
       "4                                               [Music]  \n",
       "...                                                 ...  \n",
       "3145                  [Perfect, kids, adults, everyone]  \n",
       "3146  [Listening, music, searching, locations, check...  \n",
       "3147  [love, things, running, entire, home, TV, ligh...  \n",
       "3148  [complaint, sound, quality, isnt, great, mostl...  \n",
       "3149                                             [Good]  \n",
       "\n",
       "[3149 rows x 7 columns]"
      ]
     },
     "execution_count": 25,
     "metadata": {},
     "output_type": "execute_result"
    }
   ],
   "source": [
    "reviews_df"
   ]
  },
  {
   "cell_type": "markdown",
   "id": "1384ef92-8c6f-4954-8630-9e23783f5c55",
   "metadata": {},
   "source": [
    "## DATA TRANSFORMATION - FEATURE ENGINEERING "
   ]
  },
  {
   "cell_type": "code",
   "execution_count": 112,
   "id": "e8ffdb84-db56-46b2-921a-620ebca63144",
   "metadata": {},
   "outputs": [],
   "source": [
    "from sklearn.feature_extraction.text import CountVectorizer"
   ]
  },
  {
   "cell_type": "markdown",
   "id": "70b10f30-3222-4692-b580-45c3c8dce32c",
   "metadata": {},
   "source": [
    "### Convert words to numbers that the machine learing algorithms can understand, using CountVectorizer. The simplest way to vectorize the words"
   ]
  },
  {
   "cell_type": "code",
   "execution_count": null,
   "id": "1e959b52-e361-4570-83d6-7cbdd88fdc8e",
   "metadata": {},
   "outputs": [],
   "source": [
    "vectorizer = CountVectorizer(analyzer = clean_reviews)\n",
    "reviews_countvectorizer = vectorizer.fit_transform(reviews_df['verified_reviews'])"
   ]
  },
  {
   "cell_type": "markdown",
   "id": "ae790fa4-d096-4598-9db0-8eb4f8806383",
   "metadata": {},
   "source": [
    "### Each unique word in the rewiews become a feature on which the model will be trained on to predict the feedback"
   ]
  },
  {
   "cell_type": "code",
   "execution_count": 120,
   "id": "1986c603-5a87-4d18-8ecb-19e7f3d69676",
   "metadata": {},
   "outputs": [
    {
     "name": "stdout",
     "output_type": "stream",
     "text": [
      "['072318' '1' '10' ... '😬' '😳' '🤓']\n"
     ]
    }
   ],
   "source": [
    "print(vectorizer.get_feature_names_out())"
   ]
  },
  {
   "cell_type": "code",
   "execution_count": 121,
   "id": "b37a2db7-fae0-4fb1-b327-4f4c61969a22",
   "metadata": {},
   "outputs": [
    {
     "name": "stdout",
     "output_type": "stream",
     "text": [
      "[[0 0 0 ... 0 0 0]\n",
      " [0 0 0 ... 0 0 0]\n",
      " [0 0 0 ... 0 0 0]\n",
      " ...\n",
      " [0 0 0 ... 0 0 0]\n",
      " [0 0 0 ... 0 0 0]\n",
      " [0 0 0 ... 0 0 0]]\n"
     ]
    }
   ],
   "source": [
    "print(reviews_countvectorizer.toarray())  "
   ]
  },
  {
   "cell_type": "code",
   "execution_count": 122,
   "id": "bd3c8ad1-7241-481f-a712-652ec50b5a7d",
   "metadata": {},
   "outputs": [
    {
     "data": {
      "text/plain": [
       "(3149, 5211)"
      ]
     },
     "execution_count": 122,
     "metadata": {},
     "output_type": "execute_result"
    }
   ],
   "source": [
    "reviews_countvectorizer.shape"
   ]
  },
  {
   "cell_type": "code",
   "execution_count": 123,
   "id": "bdca8a47-343d-450c-9fd4-853e1b0e49e1",
   "metadata": {},
   "outputs": [],
   "source": [
    "reviews = pd.DataFrame(reviews_countvectorizer.toarray())"
   ]
  },
  {
   "cell_type": "code",
   "execution_count": 124,
   "id": "15656997-45fb-4986-8b08-5d48829fd90c",
   "metadata": {},
   "outputs": [
    {
     "data": {
      "text/plain": [
       "['vectorizer.pkl']"
      ]
     },
     "execution_count": 124,
     "metadata": {},
     "output_type": "execute_result"
    }
   ],
   "source": [
    "joblib.dump(vectorizer, 'vectorizer.pkl')"
   ]
  },
  {
   "cell_type": "markdown",
   "id": "cf650102-ebd5-4701-bcec-1aff5ba1dfcb",
   "metadata": {},
   "source": [
    "## DATA PREPARATION"
   ]
  },
  {
   "cell_type": "markdown",
   "id": "9c1e735b-c0be-44a8-a7c9-8fb1bf4abf66",
   "metadata": {},
   "source": [
    "### X - input to the model will be our vectorized features, and y - output will be feedback"
   ]
  },
  {
   "cell_type": "code",
   "execution_count": 32,
   "id": "bcf24b14-0f60-4c1a-9bf8-a4d9c4421c29",
   "metadata": {},
   "outputs": [],
   "source": [
    "X = reviews"
   ]
  },
  {
   "cell_type": "code",
   "execution_count": 33,
   "id": "1fc0ce63-b0f3-4655-806c-fcdf3a15f9da",
   "metadata": {},
   "outputs": [],
   "source": [
    "y = reviews_df['feedback']"
   ]
  },
  {
   "cell_type": "code",
   "execution_count": 178,
   "id": "c4d3440a-6e4f-4f18-8bfc-2a37d4da3cd8",
   "metadata": {},
   "outputs": [],
   "source": [
    "from sklearn.model_selection import train_test_split\n",
    "X_train,X_test,y_train,y_test = train_test_split(X,y,test_size=0.2, random_state=42)"
   ]
  },
  {
   "cell_type": "markdown",
   "id": "923cbbde-1e5f-4580-a9a5-f8a8f2b1b689",
   "metadata": {},
   "source": [
    "## MODEL DEVELOPMENT"
   ]
  },
  {
   "cell_type": "markdown",
   "id": "cc3f0f44-c854-4029-b039-25c54f791bd4",
   "metadata": {},
   "source": [
    "### Lets try some of the classification models availble form sklean to perform this binary classification of feedback (1-positive , 0-negative)\n",
    "\n",
    "* Naive Bayes\n",
    "* Logistic Regression\n",
    "* Support Vector Mcahine\n",
    "* Decision Tree\n",
    "* Random Forest\n",
    "* Gradient Boosting\n",
    "* XGBoost\n",
    "* K Nearest Neighbors\n",
    "* Light BGM\n",
    "* AdaBoost"
   ]
  },
  {
   "cell_type": "code",
   "execution_count": 35,
   "id": "81307e0d-916f-4187-a8aa-dbf5b494629e",
   "metadata": {},
   "outputs": [],
   "source": [
    "from sklearn.metrics import classification_report, confusion_matrix\n",
    "from sklearn.metrics import accuracy_score, precision_score, recall_score, f1_score, roc_auc_score\n",
    "from sklearn.model_selection import cross_val_score, StratifiedKFold"
   ]
  },
  {
   "cell_type": "markdown",
   "id": "f69c94ff-49f6-4d3c-bec7-1d979a24f024",
   "metadata": {},
   "source": [
    "### Naive Bayes \n",
    "* Naive Bayes classifiers apply Bayes' theorem with the assumption of conditional independence between features given the class label, predicting the class with the highest posterior probability.\n",
    "* Naive Bayes is ideal for sentiment analysis due to its simplicity, efficiency, and effectiveness in handling large, high-dimensional text data, providing robust baseline performance."
   ]
  },
  {
   "cell_type": "code",
   "execution_count": 91,
   "id": "33e356ef-79de-4917-b995-ba1c777e033e",
   "metadata": {},
   "outputs": [
    {
     "name": "stdout",
     "output_type": "stream",
     "text": [
      "--------------------------------------------------------------------\n",
      "\n",
      "Confusion Matrix: \n",
      " [[ 21  11]\n",
      " [ 42 556]]\n",
      "--------------------------------------------------------------------\n",
      "\n",
      "Classification report for Naive Bayes: \n",
      "               precision    recall  f1-score   support\n",
      "\n",
      "           0       0.33      0.66      0.44        32\n",
      "           1       0.98      0.93      0.95       598\n",
      "\n",
      "    accuracy                           0.92       630\n",
      "   macro avg       0.66      0.79      0.70       630\n",
      "weighted avg       0.95      0.92      0.93       630\n",
      "\n",
      "--------------------------------------------------------------------\n",
      "\n",
      "AUC-ROC: 0.6569664902998236\n",
      "--------------------------------------------------------------------\n",
      "\n",
      "Accuarcy : 0.9158730158730158\n",
      "--------------------------------------------------------------------\n",
      "\n"
     ]
    }
   ],
   "source": [
    "from sklearn.naive_bayes import MultinomialNB\n",
    "\n",
    "NB_classifier = MultinomialNB()\n",
    "NB_classifier.fit(X_train,y_train)\n",
    "y_pred = NB_classifier.predict(X_test)\n",
    "\n",
    "cm = confusion_matrix(y_pred,y_test)\n",
    "print(\"--------------------------------------------------------------------\\n\")\n",
    "print(\"Confusion Matrix: \\n\", cm)\n",
    "print(\"--------------------------------------------------------------------\\n\")\n",
    "\n",
    "cr = classification_report(y_pred,y_test)\n",
    "print(\"Classification report for Naive Bayes: \\n\", cr)\n",
    "print(\"--------------------------------------------------------------------\\n\")\n",
    "\n",
    "print(f\"AUC-ROC: {roc_auc_score(y_test, y_pred)}\")\n",
    "print(\"--------------------------------------------------------------------\\n\")\n",
    "\n",
    "print(\"Accuarcy :\", accuracy_score(y_test, y_pred))\n",
    "print(\"--------------------------------------------------------------------\\n\")\n"
   ]
  },
  {
   "cell_type": "markdown",
   "id": "7a87f543-51d6-4e72-8bd7-e1e5fff798f9",
   "metadata": {},
   "source": [
    "## CROSS VALIDATION"
   ]
  },
  {
   "cell_type": "code",
   "execution_count": 92,
   "id": "5b5f7d43-1ed5-4ddc-80ac-c49daaf1eba2",
   "metadata": {},
   "outputs": [
    {
     "name": "stdout",
     "output_type": "stream",
     "text": [
      "Cross-Validation Accuracy Scores: [0.93015873 0.93809524 0.93174603 0.92063492 0.93322734]\n",
      "Mean Cross-Validation Accuracy: 0.9307724531253943\n",
      "Standard Deviation of Cross-Validation Accuracy: 0.005722652357033934\n"
     ]
    }
   ],
   "source": [
    "skf = StratifiedKFold(n_splits=5, shuffle=True, random_state=42)\n",
    "cross_val_scores = cross_val_score(NB_classifier, X, y, cv=skf, scoring='accuracy')\n",
    "print(f\"Cross-Validation Accuracy Scores: {cross_val_scores}\")\n",
    "print(f\"Mean Cross-Validation Accuracy: {np.mean(cross_val_scores)}\")\n",
    "print(f\"Standard Deviation of Cross-Validation Accuracy: {np.std(cross_val_scores)}\")"
   ]
  },
  {
   "cell_type": "markdown",
   "id": "8cfd9f97-ca29-4551-acbd-c80a4579ec56",
   "metadata": {},
   "source": [
    "### Logistic Regression\n",
    "* Logistic Regression models the probability of a binary outcome based on one or more predictor variables using the logistic function to ensure the output is between 0 and 1.\n",
    "* Logistic Regression is suitable for sentiment analysis due to its simplicity, interpretability, and effectiveness in handling linear relationships in text data."
   ]
  },
  {
   "cell_type": "code",
   "execution_count": 251,
   "id": "e6183316-8599-474f-9932-6176ecf67509",
   "metadata": {},
   "outputs": [
    {
     "name": "stdout",
     "output_type": "stream",
     "text": [
      "Collecting scikit-optimize\n",
      "  Downloading scikit_optimize-0.10.2-py2.py3-none-any.whl.metadata (9.7 kB)\n",
      "Requirement already satisfied: joblib>=0.11 in /opt/anaconda3/lib/python3.11/site-packages (from scikit-optimize) (1.2.0)\n",
      "Collecting pyaml>=16.9 (from scikit-optimize)\n",
      "  Downloading pyaml-24.4.0-py3-none-any.whl.metadata (11 kB)\n",
      "Requirement already satisfied: numpy>=1.20.3 in /opt/anaconda3/lib/python3.11/site-packages (from scikit-optimize) (1.26.4)\n",
      "Requirement already satisfied: scipy>=1.1.0 in /opt/anaconda3/lib/python3.11/site-packages (from scikit-optimize) (1.11.4)\n",
      "Requirement already satisfied: scikit-learn>=1.0.0 in /opt/anaconda3/lib/python3.11/site-packages (from scikit-optimize) (1.2.2)\n",
      "Requirement already satisfied: packaging>=21.3 in /opt/anaconda3/lib/python3.11/site-packages (from scikit-optimize) (24.1)\n",
      "Requirement already satisfied: PyYAML in /opt/anaconda3/lib/python3.11/site-packages (from pyaml>=16.9->scikit-optimize) (6.0.1)\n",
      "Requirement already satisfied: threadpoolctl>=2.0.0 in /opt/anaconda3/lib/python3.11/site-packages (from scikit-learn>=1.0.0->scikit-optimize) (2.2.0)\n",
      "Downloading scikit_optimize-0.10.2-py2.py3-none-any.whl (107 kB)\n",
      "\u001b[2K   \u001b[90m━━━━━━━━━━━━━━━━━━━━━━━━━━━━━━━━━━━━━━━━\u001b[0m \u001b[32m107.8/107.8 kB\u001b[0m \u001b[31m2.3 MB/s\u001b[0m eta \u001b[36m0:00:00\u001b[0m \u001b[36m0:00:01\u001b[0m\n",
      "\u001b[?25hDownloading pyaml-24.4.0-py3-none-any.whl (24 kB)\n",
      "Installing collected packages: pyaml, scikit-optimize\n",
      "Successfully installed pyaml-24.4.0 scikit-optimize-0.10.2\n",
      "Note: you may need to restart the kernel to use updated packages.\n"
     ]
    }
   ],
   "source": [
    "pip install scikit-optimize"
   ]
  },
  {
   "cell_type": "code",
   "execution_count": 125,
   "id": "5c411566-165b-447e-a0f1-16ee32c99988",
   "metadata": {},
   "outputs": [
    {
     "name": "stdout",
     "output_type": "stream",
     "text": [
      "--------------------------------------------------------------------\n",
      "\n",
      "Confusion Matrix for LogisticRegression: \n",
      " [[ 19   4]\n",
      " [ 44 563]]\n",
      "--------------------------------------------------------------------\n",
      "\n",
      "Classification report for LogisticRegression: \n",
      "               precision    recall  f1-score   support\n",
      "\n",
      "           0       0.30      0.83      0.44        23\n",
      "           1       0.99      0.93      0.96       607\n",
      "\n",
      "    accuracy                           0.92       630\n",
      "   macro avg       0.65      0.88      0.70       630\n",
      "weighted avg       0.97      0.92      0.94       630\n",
      "\n",
      "--------------------------------------------------------------------\n",
      "\n",
      "AUC-ROC: 0.6472663139329806\n",
      "--------------------------------------------------------------------\n",
      "\n",
      "Accuarcy : 0.9238095238095239\n",
      "--------------------------------------------------------------------\n",
      "\n"
     ]
    }
   ],
   "source": [
    "from sklearn.linear_model import LogisticRegression\n",
    "\n",
    "LG_classifier = LogisticRegression()\n",
    "LG_classifier.fit(X_train,y_train)\n",
    "y_pred = LG_classifier.predict(X_test)\n",
    "\n",
    "cm = confusion_matrix(y_pred,y_test)\n",
    "print(\"--------------------------------------------------------------------\\n\")\n",
    "print(\"Confusion Matrix for LogisticRegression: \\n\", cm)\n",
    "print(\"--------------------------------------------------------------------\\n\")\n",
    "\n",
    "cr = classification_report(y_pred,y_test)\n",
    "print(\"Classification report for LogisticRegression: \\n\", cr)\n",
    "print(\"--------------------------------------------------------------------\\n\")\n",
    "\n",
    "print(f\"AUC-ROC: {roc_auc_score(y_test, y_pred)}\")\n",
    "print(\"--------------------------------------------------------------------\\n\")\n",
    "\n",
    "print(\"Accuarcy :\", accuracy_score(y_test, y_pred))\n",
    "print(\"--------------------------------------------------------------------\\n\")"
   ]
  },
  {
   "cell_type": "code",
   "execution_count": 126,
   "id": "1527528a-d8b0-4473-8e7a-e8559f589a71",
   "metadata": {},
   "outputs": [
    {
     "data": {
      "text/plain": [
       "['model.pkl']"
      ]
     },
     "execution_count": 126,
     "metadata": {},
     "output_type": "execute_result"
    }
   ],
   "source": [
    "joblib.dump(LG_classifier, 'model.pkl')"
   ]
  },
  {
   "cell_type": "code",
   "execution_count": 94,
   "id": "69618c1e-919d-4561-946b-13564d44a9cf",
   "metadata": {},
   "outputs": [
    {
     "name": "stdout",
     "output_type": "stream",
     "text": [
      "Cross-Validation Accuracy Scores: [0.94444444 0.93015873 0.94126984 0.94126984 0.93163752]\n",
      "Mean Cross-Validation Accuracy: 0.9377560754031343\n",
      "Standard Deviation of Cross-Validation Accuracy: 0.005737312229696217\n"
     ]
    }
   ],
   "source": [
    "skf = StratifiedKFold(n_splits=5, shuffle=True, random_state=42)\n",
    "cross_val_scores = cross_val_score(LG_classifier, X, y, cv=skf, scoring='accuracy')\n",
    "print(f\"Cross-Validation Accuracy Scores: {cross_val_scores}\")\n",
    "print(f\"Mean Cross-Validation Accuracy: {np.mean(cross_val_scores)}\")\n",
    "print(f\"Standard Deviation of Cross-Validation Accuracy: {np.std(cross_val_scores)}\")"
   ]
  },
  {
   "cell_type": "markdown",
   "id": "69a1112a-4efe-41ea-a866-cd7d2e7eb1ad",
   "metadata": {},
   "source": [
    "### Support Vector Machine\n",
    "* Support Vector Machine (SVM) finds the optimal hyperplane that maximally separates the classes in a high-dimensional space.\n",
    "* SVM is effective for sentiment analysis due to its robustness in high-dimensional spaces and ability to handle non-linear relationships through kernel tricks."
   ]
  },
  {
   "cell_type": "code",
   "execution_count": 95,
   "id": "54f83278-3d61-4951-9c1b-5940c5706eb2",
   "metadata": {},
   "outputs": [
    {
     "name": "stdout",
     "output_type": "stream",
     "text": [
      "--------------------------------------------------------------------\n",
      "\n",
      "Confusion Matrix for SVM: \n",
      " [[  5   0]\n",
      " [ 58 567]]\n",
      "--------------------------------------------------------------------\n",
      "\n",
      "Classification report for SVM: \n",
      "               precision    recall  f1-score   support\n",
      "\n",
      "           0       0.08      1.00      0.15         5\n",
      "           1       1.00      0.91      0.95       625\n",
      "\n",
      "    accuracy                           0.91       630\n",
      "   macro avg       0.54      0.95      0.55       630\n",
      "weighted avg       0.99      0.91      0.94       630\n",
      "\n",
      "--------------------------------------------------------------------\n",
      "\n",
      "AUC-ROC: 0.5396825396825398\n",
      "--------------------------------------------------------------------\n",
      "\n",
      "Accuarcy : 0.9079365079365079\n",
      "--------------------------------------------------------------------\n",
      "\n"
     ]
    }
   ],
   "source": [
    "from sklearn.svm import SVC\n",
    "\n",
    "SVM_classifier = SVC()\n",
    "SVM_classifier.fit(X_train, y_train)\n",
    "y_pred = SVM_classifier.predict(X_test)\n",
    "\n",
    "cm = confusion_matrix(y_pred,y_test)\n",
    "print(\"--------------------------------------------------------------------\\n\")\n",
    "\n",
    "print(\"Confusion Matrix for SVM: \\n\", cm)\n",
    "print(\"--------------------------------------------------------------------\\n\")\n",
    "\n",
    "cr = classification_report(y_pred,y_test)\n",
    "print(\"Classification report for SVM: \\n\", cr)\n",
    "print(\"--------------------------------------------------------------------\\n\")\n",
    "\n",
    "print(f\"AUC-ROC: {roc_auc_score(y_test, y_pred)}\")\n",
    "print(\"--------------------------------------------------------------------\\n\")\n",
    "\n",
    "print(\"Accuarcy :\", accuracy_score(y_test, y_pred))\n",
    "print(\"--------------------------------------------------------------------\\n\")"
   ]
  },
  {
   "cell_type": "code",
   "execution_count": 96,
   "id": "ea13b204-e879-4141-a5cc-0e4036b7383f",
   "metadata": {},
   "outputs": [
    {
     "name": "stdout",
     "output_type": "stream",
     "text": [
      "Cross-Validation Accuracy Scores: [0.92698413 0.92063492 0.92698413 0.92222222 0.92845787]\n",
      "Mean Cross-Validation Accuracy: 0.9250566532919475\n",
      "Standard Deviation of Cross-Validation Accuracy: 0.0030523532382438754\n"
     ]
    }
   ],
   "source": [
    "skf = StratifiedKFold(n_splits=5, shuffle=True, random_state=42)\n",
    "cross_val_scores = cross_val_score(SVM_classifier, X, y, cv=skf, scoring='accuracy')\n",
    "print(f\"Cross-Validation Accuracy Scores: {cross_val_scores}\")\n",
    "print(f\"Mean Cross-Validation Accuracy: {np.mean(cross_val_scores)}\")\n",
    "print(f\"Standard Deviation of Cross-Validation Accuracy: {np.std(cross_val_scores)}\")"
   ]
  },
  {
   "cell_type": "markdown",
   "id": "10d58da3-0d69-4c87-ab4b-214e8bb75f36",
   "metadata": {},
   "source": [
    "### Decision Tree\n",
    "* A Decision Tree splits the data into branches based on feature values, creating a tree structure to predict the target variable.\n",
    "* Decision Trees are useful for sentiment analysis due to their simplicity, interpretability, and ability to capture non-linear relationships in the data."
   ]
  },
  {
   "cell_type": "code",
   "execution_count": 141,
   "id": "aa8be5e4-81f1-4c2a-a022-4769f2abfe47",
   "metadata": {},
   "outputs": [
    {
     "name": "stdout",
     "output_type": "stream",
     "text": [
      "--------------------------------------------------------------------\n",
      "\n",
      "Confusion Matrix for Decision Tree Classifier: \n",
      " [[ 33  30]\n",
      " [ 30 537]]\n",
      "--------------------------------------------------------------------\n",
      "\n",
      "Classification report for Decision Tree Classifier: \n",
      "               precision    recall  f1-score   support\n",
      "\n",
      "           0       0.52      0.52      0.52        63\n",
      "           1       0.95      0.95      0.95       567\n",
      "\n",
      "    accuracy                           0.90       630\n",
      "   macro avg       0.74      0.74      0.74       630\n",
      "weighted avg       0.90      0.90      0.90       630\n",
      "\n",
      "--------------------------------------------------------------------\n",
      "\n",
      "AUC-ROC: 0.7354497354497355\n",
      "--------------------------------------------------------------------\n",
      "\n",
      "Accuarcy : 0.9047619047619048\n",
      "--------------------------------------------------------------------\n",
      "\n"
     ]
    }
   ],
   "source": [
    "from sklearn.tree import DecisionTreeClassifier\n",
    "\n",
    "DT_classifier = DecisionTreeClassifier()\n",
    "DT_classifier.fit(X_train, y_train)\n",
    "y_pred = DT_classifier.predict(X_test)\n",
    "\n",
    "cm = confusion_matrix(y_pred,y_test)\n",
    "print(\"--------------------------------------------------------------------\\n\")\n",
    "print(\"Confusion Matrix for Decision Tree Classifier: \\n\", cm)\n",
    "print(\"--------------------------------------------------------------------\\n\")\n",
    "\n",
    "cr = classification_report(y_pred,y_test)\n",
    "print(\"Classification report for Decision Tree Classifier: \\n\", cr)\n",
    "print(\"--------------------------------------------------------------------\\n\")\n",
    "\n",
    "print(f\"AUC-ROC: {roc_auc_score(y_test, y_pred)}\")\n",
    "print(\"--------------------------------------------------------------------\\n\")\n",
    "\n",
    "print(\"Accuarcy :\", accuracy_score(y_test, y_pred))\n",
    "print(\"--------------------------------------------------------------------\\n\")"
   ]
  },
  {
   "cell_type": "code",
   "execution_count": 142,
   "id": "3e0d16e8-0beb-4b35-84f0-944f52acf261",
   "metadata": {},
   "outputs": [
    {
     "data": {
      "text/plain": [
       "['DT_classifier_model.pkl']"
      ]
     },
     "execution_count": 142,
     "metadata": {},
     "output_type": "execute_result"
    }
   ],
   "source": [
    "joblib.dump(DT_classifier, 'DT_classifier_model.pkl')"
   ]
  },
  {
   "cell_type": "code",
   "execution_count": 44,
   "id": "d3dfad69-e7c7-450a-8da7-cf1138f07307",
   "metadata": {},
   "outputs": [
    {
     "name": "stdout",
     "output_type": "stream",
     "text": [
      "Cross-Validation Accuracy Scores: [0.91428571 0.93015873 0.92698413 0.92380952 0.92209857]\n",
      "Mean Cross-Validation Accuracy: 0.9234673328790975\n",
      "Standard Deviation of Cross-Validation Accuracy: 0.005356031498864217\n"
     ]
    }
   ],
   "source": [
    "skf = StratifiedKFold(n_splits=5, shuffle=True, random_state=42)\n",
    "cross_val_scores = cross_val_score(DT_classifier, X, y, cv=skf, scoring='accuracy')\n",
    "print(f\"Cross-Validation Accuracy Scores: {cross_val_scores}\")\n",
    "print(f\"Mean Cross-Validation Accuracy: {np.mean(cross_val_scores)}\")\n",
    "print(f\"Standard Deviation of Cross-Validation Accuracy: {np.std(cross_val_scores)}\")"
   ]
  },
  {
   "cell_type": "markdown",
   "id": "06f28a2f-404b-4a71-ae42-c258ba458a0d",
   "metadata": {},
   "source": [
    "### Random Forest\n",
    "* Random Forest builds multiple decision trees on random subsets of the data and aggregates their predictions to improve accuracy and robustness.\n",
    "* Random Forest is effective for sentiment analysis due to its high accuracy, ability to handle overfitting, and robustness to noise in the data."
   ]
  },
  {
   "cell_type": "code",
   "execution_count": 45,
   "id": "207c1ed1-6550-42ed-b1e6-52a9a201b65b",
   "metadata": {},
   "outputs": [
    {
     "name": "stdout",
     "output_type": "stream",
     "text": [
      "--------------------------------------------------------------------\n",
      "\n",
      "Confusion Matrix for Random Forest Classifier: \n",
      " [[ 10   2]\n",
      " [ 30 588]]\n",
      "--------------------------------------------------------------------\n",
      "\n",
      "Classification report for Random Forest Classifier: \n",
      "               precision    recall  f1-score   support\n",
      "\n",
      "           0       0.25      0.83      0.38        12\n",
      "           1       1.00      0.95      0.97       618\n",
      "\n",
      "    accuracy                           0.95       630\n",
      "   macro avg       0.62      0.89      0.68       630\n",
      "weighted avg       0.98      0.95      0.96       630\n",
      "\n",
      "--------------------------------------------------------------------\n",
      "\n",
      "AUC-ROC: 0.6233050847457627\n",
      "--------------------------------------------------------------------\n",
      "\n",
      "Accuarcy : 0.9492063492063492\n",
      "--------------------------------------------------------------------\n",
      "\n"
     ]
    }
   ],
   "source": [
    "from sklearn.ensemble import RandomForestClassifier\n",
    "\n",
    "RF_classifier = RandomForestClassifier()\n",
    "RF_classifier.fit(X_train, y_train)\n",
    "y_pred = RF_classifier.predict(X_test)\n",
    "\n",
    "cm = confusion_matrix(y_pred,y_test)\n",
    "print(\"--------------------------------------------------------------------\\n\")\n",
    "print(\"Confusion Matrix for Random Forest Classifier: \\n\", cm)\n",
    "print(\"--------------------------------------------------------------------\\n\")\n",
    "\n",
    "cr = classification_report(y_pred,y_test)\n",
    "print(\"Classification report for Random Forest Classifier: \\n\", cr)\n",
    "print(\"--------------------------------------------------------------------\\n\")\n",
    "\n",
    "print(f\"AUC-ROC: {roc_auc_score(y_test, y_pred)}\")\n",
    "print(\"--------------------------------------------------------------------\\n\")\n",
    "\n",
    "print(\"Accuarcy :\", accuracy_score(y_test, y_pred))\n",
    "print(\"--------------------------------------------------------------------\\n\")"
   ]
  },
  {
   "cell_type": "code",
   "execution_count": 46,
   "id": "a1eb998e-4bb9-4313-b8bd-ffc27a4bc64c",
   "metadata": {},
   "outputs": [
    {
     "name": "stdout",
     "output_type": "stream",
     "text": [
      "Cross-Validation Accuracy Scores: [0.94285714 0.93174603 0.94603175 0.93174603 0.93799682]\n",
      "Mean Cross-Validation Accuracy: 0.9380755545461428\n",
      "Standard Deviation of Cross-Validation Accuracy: 0.005767087420169868\n"
     ]
    }
   ],
   "source": [
    "skf = StratifiedKFold(n_splits=5, shuffle=True, random_state=42)\n",
    "cross_val_scores = cross_val_score(RF_classifier, X, y, cv=skf, scoring='accuracy')\n",
    "print(f\"Cross-Validation Accuracy Scores: {cross_val_scores}\")\n",
    "print(f\"Mean Cross-Validation Accuracy: {np.mean(cross_val_scores)}\")\n",
    "print(f\"Standard Deviation of Cross-Validation Accuracy: {np.std(cross_val_scores)}\")"
   ]
  },
  {
   "cell_type": "markdown",
   "id": "eb7cc75d-6cb9-4868-b1e0-f0ae27e8cb73",
   "metadata": {},
   "source": [
    "### Gradient Boosting\n",
    "* Gradient Boosting builds an ensemble of trees sequentially, where each tree corrects the errors of the previous ones using gradient descent to minimize the loss function.\n",
    "* Gradient Boosting is effective for sentiment analysis due to its high predictive accuracy, ability to handle complex patterns, and robustness to overfitting with proper tuning."
   ]
  },
  {
   "cell_type": "code",
   "execution_count": 47,
   "id": "8bcde926-55e0-4cfe-82ca-577ce2355139",
   "metadata": {},
   "outputs": [
    {
     "name": "stdout",
     "output_type": "stream",
     "text": [
      "--------------------------------------------------------------------\n",
      "\n",
      "Confusion Matrix for Gradient Boosting Classifier: \n",
      " [[  7   3]\n",
      " [ 33 587]]\n",
      "--------------------------------------------------------------------\n",
      "\n",
      "Classification report for Gradient Boosting Classifier: \n",
      "               precision    recall  f1-score   support\n",
      "\n",
      "           0       0.17      0.70      0.28        10\n",
      "           1       0.99      0.95      0.97       620\n",
      "\n",
      "    accuracy                           0.94       630\n",
      "   macro avg       0.58      0.82      0.63       630\n",
      "weighted avg       0.98      0.94      0.96       630\n",
      "\n",
      "--------------------------------------------------------------------\n",
      "\n",
      "AUC-ROC: 0.5849576271186441\n",
      "--------------------------------------------------------------------\n",
      "\n",
      "Accuarcy : 0.9428571428571428\n",
      "--------------------------------------------------------------------\n",
      "\n"
     ]
    }
   ],
   "source": [
    "from sklearn.ensemble import GradientBoostingClassifier\n",
    "\n",
    "GB_classifier = GradientBoostingClassifier()\n",
    "GB_classifier.fit(X_train, y_train)\n",
    "y_pred = GB_classifier.predict(X_test)\n",
    "\n",
    "cm = confusion_matrix(y_pred,y_test)\n",
    "print(\"--------------------------------------------------------------------\\n\")\n",
    "print(\"Confusion Matrix for Gradient Boosting Classifier: \\n\", cm)\n",
    "print(\"--------------------------------------------------------------------\\n\")\n",
    "\n",
    "cr = classification_report(y_pred,y_test)\n",
    "print(\"Classification report for Gradient Boosting Classifier: \\n\", cr)\n",
    "print(\"--------------------------------------------------------------------\\n\")\n",
    "\n",
    "print(f\"AUC-ROC: {roc_auc_score(y_test, y_pred)}\")\n",
    "print(\"--------------------------------------------------------------------\\n\")\n",
    "\n",
    "print(\"Accuarcy :\", accuracy_score(y_test, y_pred))\n",
    "print(\"--------------------------------------------------------------------\\n\")"
   ]
  },
  {
   "cell_type": "code",
   "execution_count": 48,
   "id": "8ea21b7e-a71f-4d82-9d32-7a8d51a5b2be",
   "metadata": {},
   "outputs": [
    {
     "name": "stdout",
     "output_type": "stream",
     "text": [
      "Cross-Validation Accuracy Scores: [0.92539683 0.92063492 0.92539683 0.92698413 0.93004769]\n",
      "Mean Cross-Validation Accuracy: 0.9256920786332552\n",
      "Standard Deviation of Cross-Validation Accuracy: 0.0030459801934997087\n"
     ]
    }
   ],
   "source": [
    "skf = StratifiedKFold(n_splits=5, shuffle=True, random_state=42)\n",
    "cross_val_scores = cross_val_score(GB_classifier, X, y, cv=skf, scoring='accuracy')\n",
    "print(f\"Cross-Validation Accuracy Scores: {cross_val_scores}\")\n",
    "print(f\"Mean Cross-Validation Accuracy: {np.mean(cross_val_scores)}\")\n",
    "print(f\"Standard Deviation of Cross-Validation Accuracy: {np.std(cross_val_scores)}\")"
   ]
  },
  {
   "cell_type": "markdown",
   "id": "721a8b2a-cb60-4069-a82b-d1e1095461f8",
   "metadata": {},
   "source": [
    "### XGBoost\n",
    "* XGBoost (Extreme Gradient Boosting) enhances the gradient boosting technique by implementing a more efficient, scalable, and regularized version of gradient boosting.\n",
    "* XGBoost is ideal for sentiment analysis due to its high performance, scalability, and ability to handle large datasets and complex patterns effectively."
   ]
  },
  {
   "cell_type": "code",
   "execution_count": 146,
   "id": "ef406008-c967-402e-9136-c80215c9bb94",
   "metadata": {},
   "outputs": [
    {
     "name": "stdout",
     "output_type": "stream",
     "text": [
      "Requirement already satisfied: xgboost in /opt/anaconda3/lib/python3.11/site-packages (2.1.0)\n",
      "Requirement already satisfied: numpy in /opt/anaconda3/lib/python3.11/site-packages (from xgboost) (1.26.4)\n",
      "Requirement already satisfied: scipy in /opt/anaconda3/lib/python3.11/site-packages (from xgboost) (1.11.4)\n"
     ]
    }
   ],
   "source": [
    "!pip install xgboost"
   ]
  },
  {
   "cell_type": "code",
   "execution_count": 144,
   "id": "de638c70-4132-4895-91b3-ba98a143c783",
   "metadata": {},
   "outputs": [
    {
     "name": "stdout",
     "output_type": "stream",
     "text": [
      "--------------------------------------------------------------------\n",
      "\n",
      "Confusion Matrix for XGBoost Classifier: \n",
      " [[ 22   7]\n",
      " [ 41 560]]\n",
      "--------------------------------------------------------------------\n",
      "\n",
      "Classification report for XGBoost Classifier: \n",
      "               precision    recall  f1-score   support\n",
      "\n",
      "           0       0.35      0.76      0.48        29\n",
      "           1       0.99      0.93      0.96       601\n",
      "\n",
      "    accuracy                           0.92       630\n",
      "   macro avg       0.67      0.85      0.72       630\n",
      "weighted avg       0.96      0.92      0.94       630\n",
      "\n",
      "--------------------------------------------------------------------\n",
      "\n",
      "AUC-ROC: 0.6684303350970018\n",
      "--------------------------------------------------------------------\n",
      "\n",
      "Accuarcy : 0.9238095238095239\n",
      "--------------------------------------------------------------------\n",
      "\n"
     ]
    }
   ],
   "source": [
    "import xgboost as xgb\n",
    "\n",
    "XGB_classifier = xgb.XGBClassifier()\n",
    "XGB_classifier.fit(X_train, y_train)\n",
    "y_pred = XGB_classifier.predict(X_test)\n",
    "\n",
    "cm = confusion_matrix(y_pred,y_test)\n",
    "print(\"--------------------------------------------------------------------\\n\")\n",
    "print(\"Confusion Matrix for XGBoost Classifier: \\n\", cm)\n",
    "print(\"--------------------------------------------------------------------\\n\")\n",
    "\n",
    "cr = classification_report(y_pred,y_test)\n",
    "print(\"Classification report for XGBoost Classifier: \\n\", cr)\n",
    "print(\"--------------------------------------------------------------------\\n\")\n",
    "\n",
    "print(f\"AUC-ROC: {roc_auc_score(y_test, y_pred)}\")\n",
    "print(\"--------------------------------------------------------------------\\n\")\n",
    "\n",
    "print(\"Accuarcy :\", accuracy_score(y_test, y_pred))\n",
    "print(\"--------------------------------------------------------------------\\n\")"
   ]
  },
  {
   "cell_type": "code",
   "execution_count": 50,
   "id": "077d53cc-71ec-4097-b611-52672f3751d2",
   "metadata": {},
   "outputs": [
    {
     "name": "stdout",
     "output_type": "stream",
     "text": [
      "Cross-Validation Accuracy Scores: [0.93650794 0.92380952 0.93174603 0.93809524 0.92686804]\n",
      "Mean Cross-Validation Accuracy: 0.9314053549347667\n",
      "Standard Deviation of Cross-Validation Accuracy: 0.005462431188197039\n"
     ]
    }
   ],
   "source": [
    "skf = StratifiedKFold(n_splits=5, shuffle=True, random_state=42)\n",
    "cross_val_scores = cross_val_score(XGB_classifier, X, y, cv=skf, scoring='accuracy')\n",
    "print(f\"Cross-Validation Accuracy Scores: {cross_val_scores}\")\n",
    "print(f\"Mean Cross-Validation Accuracy: {np.mean(cross_val_scores)}\")\n",
    "print(f\"Standard Deviation of Cross-Validation Accuracy: {np.std(cross_val_scores)}\")"
   ]
  },
  {
   "cell_type": "markdown",
   "id": "63c2e63b-d23f-4919-8d61-189360684a3c",
   "metadata": {},
   "source": [
    "### K Nearest Neighbors\n",
    "* K-Nearest Neighbors (KNN) classifies a data point based on the majority class among its k-nearest neighbors in the feature space.\n",
    "* KNN can be useful for sentiment analysis due to its simplicity and effectiveness in capturing local patterns in the data, especially with smaller datasets."
   ]
  },
  {
   "cell_type": "code",
   "execution_count": 51,
   "id": "ff5f6124-f5cd-4bc1-b068-66e1777a8c54",
   "metadata": {},
   "outputs": [
    {
     "name": "stdout",
     "output_type": "stream",
     "text": [
      "--------------------------------------------------------------------\n",
      "\n",
      "Confusion Matrix for KNeighborsClassifier: \n",
      " [[  3  16]\n",
      " [ 37 574]]\n",
      "--------------------------------------------------------------------\n",
      "\n",
      "Classification report for KNeighborsClassifier: \n",
      "               precision    recall  f1-score   support\n",
      "\n",
      "           0       0.07      0.16      0.10        19\n",
      "           1       0.97      0.94      0.96       611\n",
      "\n",
      "    accuracy                           0.92       630\n",
      "   macro avg       0.52      0.55      0.53       630\n",
      "weighted avg       0.95      0.92      0.93       630\n",
      "\n",
      "--------------------------------------------------------------------\n",
      "\n",
      "AUC-ROC: 0.5239406779661017\n",
      "--------------------------------------------------------------------\n",
      "\n",
      "Accuarcy : 0.9158730158730158\n",
      "--------------------------------------------------------------------\n",
      "\n"
     ]
    }
   ],
   "source": [
    "from sklearn.neighbors import KNeighborsClassifier\n",
    "\n",
    "KNN_classifier = KNeighborsClassifier(n_neighbors=5)\n",
    "KNN_classifier.fit(X_train, y_train)\n",
    "y_pred = KNN_classifier.predict(X_test)\n",
    "\n",
    "cm = confusion_matrix(y_pred,y_test)\n",
    "print(\"--------------------------------------------------------------------\\n\")\n",
    "print(\"Confusion Matrix for KNeighborsClassifier: \\n\", cm)\n",
    "print(\"--------------------------------------------------------------------\\n\")\n",
    "\n",
    "cr = classification_report(y_pred,y_test)\n",
    "print(\"Classification report for KNeighborsClassifier: \\n\", cr)\n",
    "print(\"--------------------------------------------------------------------\\n\")\n",
    "\n",
    "print(f\"AUC-ROC: {roc_auc_score(y_test, y_pred)}\")\n",
    "print(\"--------------------------------------------------------------------\\n\")\n",
    "\n",
    "print(\"Accuarcy :\", accuracy_score(y_test, y_pred))\n",
    "print(\"--------------------------------------------------------------------\\n\")"
   ]
  },
  {
   "cell_type": "code",
   "execution_count": 52,
   "id": "da3c3adf-78c0-45a9-b47b-53a8f14739ab",
   "metadata": {},
   "outputs": [
    {
     "name": "stdout",
     "output_type": "stream",
     "text": [
      "Cross-Validation Accuracy Scores: [0.90793651 0.91269841 0.91428571 0.92063492 0.91255962]\n",
      "Mean Cross-Validation Accuracy: 0.9136230347995055\n",
      "Standard Deviation of Cross-Validation Accuracy: 0.004097024657314865\n"
     ]
    }
   ],
   "source": [
    "skf = StratifiedKFold(n_splits=5, shuffle=True, random_state=42)\n",
    "cross_val_scores = cross_val_score(KNN_classifier, X, y, cv=skf, scoring='accuracy')\n",
    "print(f\"Cross-Validation Accuracy Scores: {cross_val_scores}\")\n",
    "print(f\"Mean Cross-Validation Accuracy: {np.mean(cross_val_scores)}\")\n",
    "print(f\"Standard Deviation of Cross-Validation Accuracy: {np.std(cross_val_scores)}\")"
   ]
  },
  {
   "cell_type": "markdown",
   "id": "a82c404b-07ba-48b4-8c49-2232de1aa4a7",
   "metadata": {},
   "source": [
    "## ENSEMBLE BEST PERFORMING MODEL BY SOFT VOTING"
   ]
  },
  {
   "cell_type": "code",
   "execution_count": 75,
   "id": "f1fd6a6c-1df4-4ad4-9124-cd5bd8f240e9",
   "metadata": {},
   "outputs": [
    {
     "name": "stdout",
     "output_type": "stream",
     "text": [
      "--------------------------------------------------------------------\n",
      "\n",
      "Confusion Matrix: \n",
      " [[ 14  26]\n",
      " [  2 588]]\n",
      "--------------------------------------------------------------------\n",
      "\n",
      "Classification report for Ensemble Model: \n",
      "               precision    recall  f1-score   support\n",
      "\n",
      "           0       0.88      0.35      0.50        40\n",
      "           1       0.96      1.00      0.98       590\n",
      "\n",
      "    accuracy                           0.96       630\n",
      "   macro avg       0.92      0.67      0.74       630\n",
      "weighted avg       0.95      0.96      0.95       630\n",
      "\n",
      "--------------------------------------------------------------------\n",
      "\n",
      "AUC-ROC: 0.6733050847457627\n",
      "--------------------------------------------------------------------\n",
      "\n",
      "Accuracy: 0.9555555555555556\n",
      "--------------------------------------------------------------------\n",
      "\n"
     ]
    }
   ],
   "source": [
    "from sklearn.ensemble import VotingClassifier\n",
    "import xgboost as xgb\n",
    "\n",
    "# Initialize individual models\n",
    "lg = LogisticRegression()\n",
    "xg = xgb.XGBClassifier()\n",
    "rf = RandomForestClassifier()\n",
    "\n",
    "# Create the voting classifier\n",
    "ensemble_model = VotingClassifier(\n",
    "    estimators=[\n",
    "        ('logistic_regression', lg),\n",
    "        ('xgboost', xg),\n",
    "        ('random_forest', rf)\n",
    "    ],\n",
    "    voting='soft'  # 'hard' for majority voting, 'soft' for averaged probabilities\n",
    ")\n",
    "\n",
    "# Train the ensemble model\n",
    "ensemble_model.fit(X_train, y_train)\n",
    "\n",
    "# Make predictions\n",
    "y_pred = ensemble_model.predict(X_test)\n",
    "\n",
    "# Evaluate the model\n",
    "print(\"--------------------------------------------------------------------\\n\")\n",
    "cm = confusion_matrix(y_test, y_pred)\n",
    "print(\"Confusion Matrix: \\n\", cm)\n",
    "print(\"--------------------------------------------------------------------\\n\")\n",
    "\n",
    "cr = classification_report(y_test, y_pred)\n",
    "print(\"Classification report for Ensemble Model: \\n\", cr)\n",
    "print(\"--------------------------------------------------------------------\\n\")\n",
    "\n",
    "auc_roc = roc_auc_score(y_test, y_pred)\n",
    "print(f\"AUC-ROC: {auc_roc}\")\n",
    "print(\"--------------------------------------------------------------------\\n\")\n",
    "\n",
    "accuracy = accuracy_score(y_test, y_pred)\n",
    "print(f\"Accuracy: {accuracy}\")\n",
    "print(\"--------------------------------------------------------------------\\n\")\n"
   ]
  },
  {
   "cell_type": "code",
   "execution_count": 76,
   "id": "d3f4fdea-7f46-4317-9bcb-5b661a9749b9",
   "metadata": {},
   "outputs": [
    {
     "name": "stdout",
     "output_type": "stream",
     "text": [
      "--------------------------------------------------------------------\n",
      "\n",
      "Confusion Matrix: \n",
      " [[ 14  26]\n",
      " [  4 586]]\n",
      "--------------------------------------------------------------------\n",
      "\n",
      "Classification report for Ensemble Model: \n",
      "               precision    recall  f1-score   support\n",
      "\n",
      "           0       0.78      0.35      0.48        40\n",
      "           1       0.96      0.99      0.98       590\n",
      "\n",
      "    accuracy                           0.95       630\n",
      "   macro avg       0.87      0.67      0.73       630\n",
      "weighted avg       0.95      0.95      0.94       630\n",
      "\n",
      "--------------------------------------------------------------------\n",
      "\n",
      "AUC-ROC: 0.6716101694915254\n",
      "--------------------------------------------------------------------\n",
      "\n",
      "Accuracy: 0.9523809523809523\n",
      "--------------------------------------------------------------------\n",
      "\n"
     ]
    }
   ],
   "source": [
    "import xgboost as xgb\n",
    "\n",
    "# Initialize individual models\n",
    "lg = LogisticRegression()\n",
    "xg = xgb.XGBClassifier()\n",
    "rf = RandomForestClassifier()\n",
    "\n",
    "# Create the voting classifier\n",
    "ensemble_model_hard = VotingClassifier(\n",
    "    estimators=[\n",
    "        ('logistic_regression', lg),\n",
    "        ('xgboost', xg),\n",
    "        ('random_forest', rf)\n",
    "    ],\n",
    "    voting='hard'  # 'hard' for majority voting, 'soft' for averaged probabilities\n",
    ")\n",
    "\n",
    "# Train the ensemble model\n",
    "ensemble_model_hard.fit(X_train, y_train)\n",
    "\n",
    "# Make predictions\n",
    "y_pred = ensemble_model_hard.predict(X_test)\n",
    "\n",
    "# Evaluate the model\n",
    "print(\"--------------------------------------------------------------------\\n\")\n",
    "cm = confusion_matrix(y_test, y_pred)\n",
    "print(\"Confusion Matrix: \\n\", cm)\n",
    "print(\"--------------------------------------------------------------------\\n\")\n",
    "\n",
    "cr = classification_report(y_test, y_pred)\n",
    "print(\"Classification report for Ensemble Model: \\n\", cr)\n",
    "print(\"--------------------------------------------------------------------\\n\")\n",
    "\n",
    "auc_roc = roc_auc_score(y_test, y_pred)\n",
    "print(f\"AUC-ROC: {auc_roc}\")\n",
    "print(\"--------------------------------------------------------------------\\n\")\n",
    "\n",
    "accuracy = accuracy_score(y_test, y_pred)\n",
    "print(f\"Accuracy: {accuracy}\")\n",
    "print(\"--------------------------------------------------------------------\\n\")\n"
   ]
  },
  {
   "cell_type": "markdown",
   "id": "b1b73588-48f4-4c2e-92b7-d1f935937da9",
   "metadata": {},
   "source": [
    "## Ensembling did not really outstand XGBoost, we could simply use XGBoost model"
   ]
  },
  {
   "cell_type": "markdown",
   "id": "65d87a2f-407e-4bc0-b9e1-0779594c0400",
   "metadata": {},
   "source": [
    "## DEPLOYMENT"
   ]
  },
  {
   "cell_type": "code",
   "execution_count": 136,
   "id": "6260e019-4fc1-48f8-8ff9-5994f204cf07",
   "metadata": {},
   "outputs": [
    {
     "name": "stdout",
     "output_type": "stream",
     "text": [
      "Review: I absolutely love this product! It's amazing.\n",
      "Sentiment: positive\n",
      "\n",
      "Review: This is the worst purchase I've ever made. Completely dissatisfied.\n",
      "Sentiment: positive\n",
      "\n",
      "Review: It's okay, not great but not bad either.\n",
      "Sentiment: positive\n",
      "\n",
      "Review: I'm so happy with this. Highly recommend it to everyone!\n",
      "Sentiment: positive\n",
      "\n",
      "Review: Terrible, waste of money. Do not buy this product.\n",
      "Sentiment: positive\n",
      "\n"
     ]
    }
   ],
   "source": [
    "import pandas as pd\n",
    "from sklearn.feature_extraction.text import CountVectorizer\n",
    "import joblib\n",
    "\n",
    "# Load the vectorizer and model\n",
    "vectorizer = joblib.load('vectorizer.pkl')\n",
    "model = joblib.load('model.pkl')\n",
    "\n",
    "# Dummy clean_reviews function for demonstration\n",
    "def clean_reviews(review):\n",
    "    # Placeholder for actual cleaning logic\n",
    "    return review\n",
    "\n",
    "# Define the prediction function\n",
    "def predict_sentiment(review):\n",
    "    # Transform the review text using the loaded vectorizer\n",
    "    reviews_countvectorizer = vectorizer.transform([review])\n",
    "    features = pd.DataFrame(reviews_countvectorizer.toarray())\n",
    "    \n",
    "    # Make a prediction\n",
    "    prediction = model.predict(features)\n",
    "    \n",
    "    # Convert the prediction to a sentiment\n",
    "    sentiment = 'positive' if prediction[0] == 1 else 'negative'\n",
    "    \n",
    "    return sentiment\n",
    "\n",
    "# Test reviews\n",
    "test_reviews = [\n",
    "    \"I absolutely love this product! It's amazing.\",\n",
    "    \"This is the worst purchase I've ever made. Completely dissatisfied.\",\n",
    "    \"It's okay, not great but not bad either.\",\n",
    "    \"I'm so happy with this. Highly recommend it to everyone!\",\n",
    "    \"Terrible, waste of money. Do not buy this product.\"\n",
    "]\n",
    "\n",
    "# Predict sentiments\n",
    "for review in test_reviews:\n",
    "    sentiment = predict_sentiment(review)\n",
    "    print(f\"Review: {review}\\nSentiment: {sentiment}\\n\")\n"
   ]
  },
  {
   "cell_type": "code",
   "execution_count": 146,
   "id": "faec0e46-e143-405b-870f-5b97645c1cd7",
   "metadata": {},
   "outputs": [
    {
     "name": "stdout",
     "output_type": "stream",
     "text": [
      "Review: I absolutely love this product! It's amazing.\n",
      "Sentiment: positive\n",
      "\n",
      "Review: This is the worst purchase I've ever made. Completely dissatisfied.\n",
      "Sentiment: positive\n",
      "\n",
      "Review: It's okay, not great but not bad either.\n",
      "Sentiment: positive\n",
      "\n",
      "Review: I'm so happy with this. Highly recommend it to everyone!\n",
      "Sentiment: positive\n",
      "\n",
      "Review: Terrible, waste of money. Do not buy this product.\n",
      "Sentiment: positive\n",
      "\n"
     ]
    }
   ],
   "source": [
    "vectorizer = joblib.load('vectorizer.pkl')\n",
    "model = joblib.load('DT_classifier_model.pkl')\n",
    "\n",
    "# Dummy clean_reviews function for demonstration\n",
    "def clean_reviews(review):\n",
    "    # Placeholder for actual cleaning logic\n",
    "    return review\n",
    "\n",
    "# Define the prediction function\n",
    "def predict_sentiment(review):\n",
    "    # Transform the review text using the loaded vectorizer\n",
    "    reviews_countvectorizer = vectorizer.transform([review])\n",
    "    features = pd.DataFrame(reviews_countvectorizer.toarray())\n",
    "    \n",
    "    # Make a prediction\n",
    "    prediction = model.predict(features)\n",
    "    \n",
    "    # Convert the prediction to a sentiment\n",
    "    sentiment = 'positive' if prediction[0] == 1 else 'negative'\n",
    "    \n",
    "    return sentiment\n",
    "\n",
    "# Test reviews\n",
    "test_reviews = [\n",
    "    \"I absolutely love this product! It's amazing.\",\n",
    "    \"This is the worst purchase I've ever made. Completely dissatisfied.\",\n",
    "    \"It's okay, not great but not bad either.\",\n",
    "    \"I'm so happy with this. Highly recommend it to everyone!\",\n",
    "    \"Terrible, waste of money. Do not buy this product.\"\n",
    "]\n",
    "\n",
    "# Predict sentiments\n",
    "for review in test_reviews:\n",
    "    sentiment = predict_sentiment(review)\n",
    "    print(f\"Review: {review}\\nSentiment: {sentiment}\\n\")\n"
   ]
  },
  {
   "cell_type": "raw",
   "id": "4a215981-1a39-4941-8fa2-e64692eeac93",
   "metadata": {},
   "source": [
    "The model is biased towards predicting positive sentiment, which might be due to imbalanced training data where the positive class is over-represented. To address this, you can try the following steps:\n",
    "\n",
    "Balance the training data: Ensure that you have a roughly equal number of positive and negative samples in your training dataset.\n",
    "Use class weights: If balancing the dataset is not feasible, you can use class weights to give more importance to the minority class during training"
   ]
  },
  {
   "cell_type": "markdown",
   "id": "c69c105c-165c-466e-9290-cb41e182e302",
   "metadata": {},
   "source": [
    "## Balanced Class Training to mitigate imbalance"
   ]
  },
  {
   "cell_type": "code",
   "execution_count": 184,
   "id": "d6134162-1a51-493c-8e2e-0454cf2e1ae8",
   "metadata": {},
   "outputs": [
    {
     "name": "stdout",
     "output_type": "stream",
     "text": [
      "--------------------------------------------------------------------\n",
      "\n",
      "Confusion Matrix for LogisticRegression: \n",
      " [[ 40  26]\n",
      " [ 23 541]]\n",
      "--------------------------------------------------------------------\n",
      "\n",
      "Classification report for LogisticRegression: \n",
      "               precision    recall  f1-score   support\n",
      "\n",
      "           0       0.63      0.61      0.62        66\n",
      "           1       0.95      0.96      0.96       564\n",
      "\n",
      "    accuracy                           0.92       630\n",
      "   macro avg       0.79      0.78      0.79       630\n",
      "weighted avg       0.92      0.92      0.92       630\n",
      "\n",
      "--------------------------------------------------------------------\n",
      "\n",
      "AUC-ROC: 0.7945326278659612\n",
      "--------------------------------------------------------------------\n",
      "\n",
      "Accuarcy : 0.9222222222222223\n",
      "--------------------------------------------------------------------\n",
      "\n"
     ]
    }
   ],
   "source": [
    "from sklearn.linear_model import LogisticRegression\n",
    "\n",
    "balanced_model = LogisticRegression(class_weight='balanced')\n",
    "balanced_model.fit(X_train,y_train)\n",
    "y_pred = balanced_model.predict(X_test)\n",
    "\n",
    "cm = confusion_matrix(y_pred,y_test)\n",
    "print(\"--------------------------------------------------------------------\\n\")\n",
    "print(\"Confusion Matrix for LogisticRegression: \\n\", cm)\n",
    "print(\"--------------------------------------------------------------------\\n\")\n",
    "\n",
    "cr = classification_report(y_pred,y_test)\n",
    "print(\"Classification report for LogisticRegression: \\n\", cr)\n",
    "print(\"--------------------------------------------------------------------\\n\")\n",
    "\n",
    "print(f\"AUC-ROC: {roc_auc_score(y_test, y_pred)}\")\n",
    "print(\"--------------------------------------------------------------------\\n\")\n",
    "\n",
    "print(\"Accuarcy :\", accuracy_score(y_test, y_pred))\n",
    "print(\"--------------------------------------------------------------------\\n\")"
   ]
  },
  {
   "cell_type": "code",
   "execution_count": 185,
   "id": "7a96a83b-7adf-41ab-bef4-bf34b6169add",
   "metadata": {},
   "outputs": [
    {
     "data": {
      "text/plain": [
       "['balanced_model.pkl']"
      ]
     },
     "execution_count": 185,
     "metadata": {},
     "output_type": "execute_result"
    }
   ],
   "source": [
    "joblib.dump(balanced_model, 'balanced_model.pkl')"
   ]
  },
  {
   "cell_type": "code",
   "execution_count": 186,
   "id": "4d5d3449-7ce5-477e-89a0-0d907d436798",
   "metadata": {},
   "outputs": [
    {
     "name": "stdout",
     "output_type": "stream",
     "text": [
      "Review: I absolutely love this product! It's amazing.\n",
      "Sentiment: positive\n",
      "\n",
      "Review: This is the worst purchase I've ever made. Completely dissatisfied.\n",
      "Sentiment: positive\n",
      "\n",
      "Review: It's okay, not great but not bad either.\n",
      "Sentiment: positive\n",
      "\n",
      "Review: I'm so happy with this. Highly recommend it to everyone!\n",
      "Sentiment: positive\n",
      "\n",
      "Review: Terrible, waste of money. Do not buy this product.\n",
      "Sentiment: negative\n",
      "\n"
     ]
    }
   ],
   "source": [
    "vectorizer = joblib.load('vectorizer.pkl')\n",
    "model = joblib.load('balanced_model.pkl')\n",
    "\n",
    "# Dummy clean_reviews function for demonstration\n",
    "def clean_reviews(review):\n",
    "    # Placeholder for actual cleaning logic\n",
    "    return review\n",
    "\n",
    "# Define the prediction function\n",
    "def predict_sentiment(review):\n",
    "    # Transform the review text using the loaded vectorizer\n",
    "    reviews_countvectorizer = vectorizer.transform([review])\n",
    "    features = pd.DataFrame(reviews_countvectorizer.toarray())\n",
    "    \n",
    "    # Make a prediction\n",
    "    prediction = model.predict(features)\n",
    "    \n",
    "    # Convert the prediction to a sentiment\n",
    "    sentiment = 'positive' if prediction[0] == 1 else 'negative'\n",
    "    \n",
    "    return sentiment\n",
    "\n",
    "# Test reviews\n",
    "test_reviews = [\n",
    "    \"I absolutely love this product! It's amazing.\",\n",
    "    \"This is the worst purchase I've ever made. Completely dissatisfied.\",\n",
    "    \"It's okay, not great but not bad either.\",\n",
    "    \"I'm so happy with this. Highly recommend it to everyone!\",\n",
    "    \"Terrible, waste of money. Do not buy this product.\"\n",
    "]\n",
    "\n",
    "# Predict sentiments\n",
    "for review in test_reviews:\n",
    "    sentiment = predict_sentiment(review)\n",
    "    print(f\"Review: {review}\\nSentiment: {sentiment}\\n\")\n"
   ]
  },
  {
   "cell_type": "raw",
   "id": "8b2be097-5de0-4ba5-a274-3e0ab0c9f7c3",
   "metadata": {},
   "source": [
    "This output is better than before but still there is a bias towards positive"
   ]
  },
  {
   "cell_type": "markdown",
   "id": "1cf799bb-68c7-46e2-afd6-5a4aa1971a60",
   "metadata": {},
   "source": [
    "## Lets try Resampling"
   ]
  },
  {
   "cell_type": "code",
   "execution_count": 166,
   "id": "cd8c3d4e-7102-4e8f-b811-241c473ad091",
   "metadata": {},
   "outputs": [],
   "source": [
    "from imblearn.over_sampling import SMOTE\n",
    "\n",
    "smote = SMOTE(random_state=42)\n",
    "X_smote, y_smote = smote.fit_resample(X_train, y_train)"
   ]
  },
  {
   "cell_type": "code",
   "execution_count": 170,
   "id": "05c8df33-9e2f-4be2-ae93-b2d32784419f",
   "metadata": {},
   "outputs": [
    {
     "name": "stdout",
     "output_type": "stream",
     "text": [
      "--------------------------------------------------------------------\n",
      "\n",
      "Confusion Matrix for LogisticRegression: \n",
      " [[ 40  89]\n",
      " [ 23 478]]\n",
      "--------------------------------------------------------------------\n",
      "\n",
      "Classification report for LogisticRegression: \n",
      "               precision    recall  f1-score   support\n",
      "\n",
      "           0       0.63      0.31      0.42       129\n",
      "           1       0.84      0.95      0.90       501\n",
      "\n",
      "    accuracy                           0.82       630\n",
      "   macro avg       0.74      0.63      0.66       630\n",
      "weighted avg       0.80      0.82      0.80       630\n",
      "\n",
      "--------------------------------------------------------------------\n",
      "\n",
      "AUC-ROC: 0.7389770723104057\n",
      "--------------------------------------------------------------------\n",
      "\n",
      "Accuarcy : 0.8222222222222222\n",
      "--------------------------------------------------------------------\n",
      "\n"
     ]
    }
   ],
   "source": [
    "from sklearn.linear_model import LogisticRegression\n",
    "\n",
    "balanced_model = LogisticRegression()\n",
    "balanced_model.fit(X_smote,y_smote)\n",
    "y_pred = balanced_model.predict(X_test)\n",
    "\n",
    "cm = confusion_matrix(y_pred,y_test)\n",
    "print(\"--------------------------------------------------------------------\\n\")\n",
    "print(\"Confusion Matrix for LogisticRegression: \\n\", cm)\n",
    "print(\"--------------------------------------------------------------------\\n\")\n",
    "\n",
    "cr = classification_report(y_pred,y_test)\n",
    "print(\"Classification report for LogisticRegression: \\n\", cr)\n",
    "print(\"--------------------------------------------------------------------\\n\")\n",
    "\n",
    "print(f\"AUC-ROC: {roc_auc_score(y_test, y_pred)}\")\n",
    "print(\"--------------------------------------------------------------------\\n\")\n",
    "\n",
    "print(\"Accuarcy :\", accuracy_score(y_test, y_pred))\n",
    "print(\"--------------------------------------------------------------------\\n\")"
   ]
  },
  {
   "cell_type": "code",
   "execution_count": 171,
   "id": "5c668ec8-d3c5-4106-9ee0-a0358570463a",
   "metadata": {},
   "outputs": [
    {
     "data": {
      "text/plain": [
       "['new.pkl']"
      ]
     },
     "execution_count": 171,
     "metadata": {},
     "output_type": "execute_result"
    }
   ],
   "source": [
    "joblib.dump(balanced_model,'new.pkl')"
   ]
  },
  {
   "cell_type": "code",
   "execution_count": 183,
   "id": "7ee82c00-ac88-4fc0-bd69-be078562df98",
   "metadata": {},
   "outputs": [
    {
     "name": "stdout",
     "output_type": "stream",
     "text": [
      "Review: I absolutely love this product! It's amazing.\n",
      "Sentiment: negative\n",
      "\n",
      "Review: This is the worst purchase I've ever made. Completely dissatisfied.\n",
      "Sentiment: negative\n",
      "\n",
      "Review: It's okay, not great but not bad either.\n",
      "Sentiment: negative\n",
      "\n",
      "Review: I'm so happy with this. Highly recommend it to everyone!\n",
      "Sentiment: negative\n",
      "\n",
      "Review: Terrible, waste of money. Do not buy this product.\n",
      "Sentiment: negative\n",
      "\n"
     ]
    }
   ],
   "source": [
    "vectorizer = joblib.load('vectorizer.pkl')\n",
    "model = joblib.load('new.pkl')\n",
    "\n",
    "# Dummy clean_reviews function for demonstration\n",
    "def clean_reviews(review):\n",
    "    # Placeholder for actual cleaning logic\n",
    "    return review\n",
    "\n",
    "# Define the prediction function\n",
    "def predict_sentiment(review):\n",
    "    # Transform the review text using the loaded vectorizer\n",
    "    reviews_countvectorizer = vectorizer.transform([review])\n",
    "    features = pd.DataFrame(reviews_countvectorizer.toarray())\n",
    "    \n",
    "    # Make a prediction\n",
    "    prediction = model.predict(features)\n",
    "    \n",
    "    # Convert the prediction to a sentiment\n",
    "    sentiment = 'positive' if prediction[0] == 1 else 'negative'\n",
    "    \n",
    "    return sentiment\n",
    "\n",
    "# Test reviews\n",
    "test_reviews = [\n",
    "    \"I absolutely love this product! It's amazing.\",\n",
    "    \"This is the worst purchase I've ever made. Completely dissatisfied.\",\n",
    "    \"It's okay, not great but not bad either.\",\n",
    "    \"I'm so happy with this. Highly recommend it to everyone!\",\n",
    "    \"Terrible, waste of money. Do not buy this product.\"\n",
    "]\n",
    "\n",
    "# Predict sentiments\n",
    "for review in test_reviews:\n",
    "    sentiment = predict_sentiment(review)\n",
    "    print(f\"Review: {review}\\nSentiment: {sentiment}\\n\")\n"
   ]
  },
  {
   "cell_type": "markdown",
   "id": "d496b3fa-4d33-4e1d-9a9c-431cf18d6f2c",
   "metadata": {},
   "source": [
    "#### Now the model is biased to the negative samples. It is necessary to do fine-tuning to get the best model. Since the data is imbalanced AUC-ROC is the best metrics to consider while finetuning. Higher the value of AUC-ROC better the models ability to distinguish between the classses correctly"
   ]
  },
  {
   "cell_type": "markdown",
   "id": "09724578-f339-4015-87bc-2cad7d4f07d9",
   "metadata": {},
   "source": [
    "#### The other way to increase the generializabilty of the model is to collect more data from the minority class"
   ]
  },
  {
   "cell_type": "code",
   "execution_count": null,
   "id": "c9526a20-b291-4c40-a4a1-bbc6715885d7",
   "metadata": {},
   "outputs": [],
   "source": []
  }
 ],
 "metadata": {
  "kernelspec": {
   "display_name": "Python 3 (ipykernel)",
   "language": "python",
   "name": "python3"
  },
  "language_info": {
   "codemirror_mode": {
    "name": "ipython",
    "version": 3
   },
   "file_extension": ".py",
   "mimetype": "text/x-python",
   "name": "python",
   "nbconvert_exporter": "python",
   "pygments_lexer": "ipython3",
   "version": "3.11.7"
  }
 },
 "nbformat": 4,
 "nbformat_minor": 5
}
